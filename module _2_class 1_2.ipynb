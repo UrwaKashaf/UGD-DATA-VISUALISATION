{
 "cells": [
  {
   "cell_type": "markdown",
   "id": "994e01b5-2731-444e-87c9-97bbdc8648a5",
   "metadata": {},
   "source": [
    "## COMPILER :\n",
    " : reads the program completely at one\n"
   ]
  },
  {
   "cell_type": "markdown",
   "id": "86cbaca5-6372-44f2-8593-b0458d14f886",
   "metadata": {},
   "source": [
    "## INTERPRETER\n",
    ": reads aprogram line by line, if line 1 had error interpreter will not move onto line 2"
   ]
  },
  {
   "cell_type": "markdown",
   "id": "98fc14b5-6998-4764-96a5-fce0e97625ac",
   "metadata": {},
   "source": [
    "# NUMPY"
   ]
  },
  {
   "cell_type": "code",
   "execution_count": 4,
   "id": "a363300e-8c62-496c-b578-677eaa624734",
   "metadata": {},
   "outputs": [],
   "source": [
    "## creating numpy/nd arrays\n",
    "import numpy as np"
   ]
  },
  {
   "cell_type": "code",
   "execution_count": 6,
   "id": "d9a62b55-9427-4431-b522-6105f70db0c7",
   "metadata": {},
   "outputs": [
    {
     "name": "stdout",
     "output_type": "stream",
     "text": [
      "[1 2 3 4 5]\n",
      "<class 'numpy.ndarray'>\n"
     ]
    }
   ],
   "source": [
    "arr = np.array([1,2,3,4,5])\n",
    "print(arr)\n",
    "print(type(arr))"
   ]
  },
  {
   "cell_type": "code",
   "execution_count": 8,
   "id": "82963a39-68c3-425a-8ae3-23f75716c94f",
   "metadata": {},
   "outputs": [
    {
     "data": {
      "text/plain": [
       "numpy.ndarray"
      ]
     },
     "execution_count": 8,
     "metadata": {},
     "output_type": "execute_result"
    }
   ],
   "source": [
    "type(arr)"
   ]
  },
  {
   "cell_type": "code",
   "execution_count": 10,
   "id": "025a39c4-a0d5-4b5b-84e8-96ccb9e4d0fd",
   "metadata": {},
   "outputs": [
    {
     "name": "stdout",
     "output_type": "stream",
     "text": [
      "1\n"
     ]
    }
   ],
   "source": [
    "## to check dimensions of an array\n",
    "print(arr.ndim)"
   ]
  },
  {
   "cell_type": "code",
   "execution_count": 12,
   "id": "d7d571f3-65c8-4bd3-89db-1f7cc205f23e",
   "metadata": {},
   "outputs": [
    {
     "name": "stdout",
     "output_type": "stream",
     "text": [
      "2\n"
     ]
    }
   ],
   "source": [
    "arr1 = np.array([[1,2],[2,3]])\n",
    "print(arr1.ndim)"
   ]
  },
  {
   "cell_type": "code",
   "execution_count": 14,
   "id": "b4f07525-9fe7-42f6-81ba-87ff944d2f42",
   "metadata": {},
   "outputs": [],
   "source": [
    "arr2 = np.array([[1,2,3,4],[5,6,7,8]])"
   ]
  },
  {
   "cell_type": "code",
   "execution_count": 16,
   "id": "2e702328-9aa3-4402-9c45-c9a8de050ff0",
   "metadata": {},
   "outputs": [
    {
     "data": {
      "text/plain": [
       "array([[1, 2, 3, 4],\n",
       "       [5, 6, 7, 8]])"
      ]
     },
     "execution_count": 16,
     "metadata": {},
     "output_type": "execute_result"
    }
   ],
   "source": [
    "arr2"
   ]
  },
  {
   "cell_type": "code",
   "execution_count": 18,
   "id": "ce96446d-bcd4-4179-8ec3-9d1883ce5f31",
   "metadata": {},
   "outputs": [],
   "source": [
    "arr3 = np.array([[1,2,3],[4,5,6],[7,8,9]])"
   ]
  },
  {
   "cell_type": "code",
   "execution_count": 20,
   "id": "c6365505-d5f1-46c6-98c7-3690d9326339",
   "metadata": {},
   "outputs": [
    {
     "data": {
      "text/plain": [
       "array([[1, 2, 3],\n",
       "       [4, 5, 6],\n",
       "       [7, 8, 9]])"
      ]
     },
     "execution_count": 20,
     "metadata": {},
     "output_type": "execute_result"
    }
   ],
   "source": [
    "arr3"
   ]
  },
  {
   "cell_type": "code",
   "execution_count": 22,
   "id": "951201a9-82fb-4ab6-a17a-998dede6249b",
   "metadata": {},
   "outputs": [
    {
     "name": "stdout",
     "output_type": "stream",
     "text": [
      "2\n"
     ]
    }
   ],
   "source": [
    "print(arr3.ndim)"
   ]
  },
  {
   "cell_type": "code",
   "execution_count": 24,
   "id": "2100e7fe-026a-4d84-ba49-e3c2d679db54",
   "metadata": {},
   "outputs": [
    {
     "data": {
      "text/plain": [
       "array([[0., 0., 0.],\n",
       "       [0., 0., 0.]])"
      ]
     },
     "execution_count": 24,
     "metadata": {},
     "output_type": "execute_result"
    }
   ],
   "source": [
    "arr4 = np.zeros((2,3))\n",
    "arr4"
   ]
  },
  {
   "cell_type": "code",
   "execution_count": 26,
   "id": "c4ce8b60-9999-43cd-b3c2-c35bce36ad86",
   "metadata": {},
   "outputs": [
    {
     "data": {
      "text/plain": [
       "array([[1., 1., 1.],\n",
       "       [1., 1., 1.]])"
      ]
     },
     "execution_count": 26,
     "metadata": {},
     "output_type": "execute_result"
    }
   ],
   "source": [
    "arr5 = np.ones((2,3))\n",
    "arr5"
   ]
  },
  {
   "cell_type": "code",
   "execution_count": 28,
   "id": "ac0b77a8-eb54-496b-9cd6-18cd81b67874",
   "metadata": {},
   "outputs": [],
   "source": [
    "arr5 = np.identity((4))"
   ]
  },
  {
   "cell_type": "code",
   "execution_count": 30,
   "id": "ef1131ad-b91a-4621-9222-e2c1c355849a",
   "metadata": {},
   "outputs": [
    {
     "data": {
      "text/plain": [
       "array([[1., 0., 0., 0.],\n",
       "       [0., 1., 0., 0.],\n",
       "       [0., 0., 1., 0.],\n",
       "       [0., 0., 0., 1.]])"
      ]
     },
     "execution_count": 30,
     "metadata": {},
     "output_type": "execute_result"
    }
   ],
   "source": [
    "arr5"
   ]
  },
  {
   "cell_type": "code",
   "execution_count": 32,
   "id": "a6b81a72-cae4-46c2-9419-c55418274a90",
   "metadata": {},
   "outputs": [
    {
     "data": {
      "text/plain": [
       "array([10.        , 10.34482759, 10.68965517, 11.03448276, 11.37931034,\n",
       "       11.72413793, 12.06896552, 12.4137931 , 12.75862069, 13.10344828,\n",
       "       13.44827586, 13.79310345, 14.13793103, 14.48275862, 14.82758621,\n",
       "       15.17241379, 15.51724138, 15.86206897, 16.20689655, 16.55172414,\n",
       "       16.89655172, 17.24137931, 17.5862069 , 17.93103448, 18.27586207,\n",
       "       18.62068966, 18.96551724, 19.31034483, 19.65517241, 20.        ])"
      ]
     },
     "execution_count": 32,
     "metadata": {},
     "output_type": "execute_result"
    }
   ],
   "source": [
    "arr6 = np.linspace(10,20,30)\n",
    "arr6"
   ]
  },
  {
   "cell_type": "code",
   "execution_count": 34,
   "id": "798a251e-11e1-4709-a3b7-6b69941d545f",
   "metadata": {},
   "outputs": [
    {
     "data": {
      "text/plain": [
       "array([10, 12, 14, 16, 18])"
      ]
     },
     "execution_count": 34,
     "metadata": {},
     "output_type": "execute_result"
    }
   ],
   "source": [
    "arr7 = np.arange(10,20,2)\n",
    "arr7"
   ]
  },
  {
   "cell_type": "code",
   "execution_count": 36,
   "id": "5a33d3f7-eb83-4d6d-ab10-d111b0035333",
   "metadata": {},
   "outputs": [
    {
     "data": {
      "text/plain": [
       "array([10, 13, 16, 19])"
      ]
     },
     "execution_count": 36,
     "metadata": {},
     "output_type": "execute_result"
    }
   ],
   "source": [
    "arr7 = np.arange(10,20,3)\n",
    "arr7"
   ]
  },
  {
   "cell_type": "code",
   "execution_count": 38,
   "id": "47774441-b121-46a7-bf47-b63fc4408088",
   "metadata": {},
   "outputs": [
    {
     "data": {
      "text/plain": [
       "array([10, 14, 18, 22, 26])"
      ]
     },
     "execution_count": 38,
     "metadata": {},
     "output_type": "execute_result"
    }
   ],
   "source": [
    " arr7 = np.arange(10,30,4)\n",
    "arr7"
   ]
  },
  {
   "cell_type": "code",
   "execution_count": 40,
   "id": "2d7b8a51-c093-4dc1-91ca-e27e54fc2566",
   "metadata": {},
   "outputs": [
    {
     "data": {
      "text/plain": [
       "array([[1., 0., 0., 0.],\n",
       "       [0., 1., 0., 0.],\n",
       "       [0., 0., 1., 0.],\n",
       "       [0., 0., 0., 1.]])"
      ]
     },
     "execution_count": 40,
     "metadata": {},
     "output_type": "execute_result"
    }
   ],
   "source": [
    "arr5"
   ]
  },
  {
   "cell_type": "code",
   "execution_count": 42,
   "id": "9eb72c40-78cd-4907-901f-faa41a3dbc3e",
   "metadata": {},
   "outputs": [
    {
     "data": {
      "text/plain": [
       "array([10, 14, 18, 22, 26])"
      ]
     },
     "execution_count": 42,
     "metadata": {},
     "output_type": "execute_result"
    }
   ],
   "source": [
    "arr7"
   ]
  },
  {
   "cell_type": "code",
   "execution_count": 44,
   "id": "3dc2f1dd-a152-4eed-818e-ea4c03b6bd45",
   "metadata": {},
   "outputs": [
    {
     "data": {
      "text/plain": [
       "array([[1, 2, 3],\n",
       "       [4, 5, 6],\n",
       "       [7, 8, 9]])"
      ]
     },
     "execution_count": 44,
     "metadata": {},
     "output_type": "execute_result"
    }
   ],
   "source": [
    "arr3"
   ]
  },
  {
   "cell_type": "code",
   "execution_count": 46,
   "id": "cc3545d7-4c68-49bc-9724-8c43adef2d96",
   "metadata": {},
   "outputs": [
    {
     "data": {
      "text/plain": [
       "array([[1, 2, 3],\n",
       "       [4, 5, 6],\n",
       "       [7, 8, 9]])"
      ]
     },
     "execution_count": 46,
     "metadata": {},
     "output_type": "execute_result"
    }
   ],
   "source": [
    "arr8 = arr3.copy()\n",
    "arr8"
   ]
  },
  {
   "cell_type": "code",
   "execution_count": 48,
   "id": "7f1a4172-8f15-40b7-a3bb-2753b0161625",
   "metadata": {},
   "outputs": [
    {
     "name": "stdout",
     "output_type": "stream",
     "text": [
      "[[[1 3]\n",
      "  [3 4]]\n",
      "\n",
      " [[5 6]\n",
      "  [6 7]]]\n",
      "3\n"
     ]
    }
   ],
   "source": [
    "arr9 = np.array([[[1,3],[3,4]],[[5,6],[6,7]]])\n",
    "print(arr9)\n",
    "print(arr9.ndim)"
   ]
  },
  {
   "cell_type": "code",
   "execution_count": 50,
   "id": "bcffb589-329a-4c8b-aad9-7ef5e3d4735f",
   "metadata": {},
   "outputs": [
    {
     "name": "stdout",
     "output_type": "stream",
     "text": [
      "[[[[3 4]\n",
      "   [5 6]]]]\n",
      "4\n",
      "(1, 1, 2, 2)\n"
     ]
    }
   ],
   "source": [
    "arr10 = np.array([[[[3,4],[5,6]]]])\n",
    "print(arr10)\n",
    "print(arr10.ndim)\n",
    "print(arr10.shape)"
   ]
  },
  {
   "cell_type": "raw",
   "id": "157b0f72-2c38-406b-a47d-f9bb2744c3e9",
   "metadata": {},
   "source": []
  },
  {
   "cell_type": "code",
   "execution_count": 52,
   "id": "c35c806e-8634-46fe-8451-a39efe49f7ac",
   "metadata": {},
   "outputs": [
    {
     "data": {
      "text/plain": [
       "4"
      ]
     },
     "execution_count": 52,
     "metadata": {},
     "output_type": "execute_result"
    }
   ],
   "source": [
    "arr10.size #number of elements in an array"
   ]
  },
  {
   "cell_type": "code",
   "execution_count": 54,
   "id": "b84fe83d-c248-4308-a82b-40abc12d4c8b",
   "metadata": {},
   "outputs": [
    {
     "data": {
      "text/plain": [
       "4"
      ]
     },
     "execution_count": 54,
     "metadata": {},
     "output_type": "execute_result"
    }
   ],
   "source": [
    "arr10.itemsize"
   ]
  },
  {
   "cell_type": "code",
   "execution_count": 56,
   "id": "441a6cea-549e-4a1e-af25-2941d5c8b947",
   "metadata": {},
   "outputs": [
    {
     "name": "stdout",
     "output_type": "stream",
     "text": [
      "[[[[3 4]\n",
      "   [5 6]]]]\n",
      "int32\n"
     ]
    }
   ],
   "source": [
    "print(arr10)\n",
    "print(arr10.dtype)"
   ]
  },
  {
   "cell_type": "code",
   "execution_count": 164,
   "id": "b8d29e70-6dd0-4a39-aad7-1da8622e4471",
   "metadata": {},
   "outputs": [
    {
     "data": {
      "text/plain": [
       "array([[0., 0., 0.],\n",
       "       [0., 0., 0.]])"
      ]
     },
     "execution_count": 164,
     "metadata": {},
     "output_type": "execute_result"
    }
   ],
   "source": [
    "arr4.astype('float')"
   ]
  },
  {
   "cell_type": "code",
   "execution_count": 166,
   "id": "1a4f2c50-4750-411d-86ba-82fc334eed7d",
   "metadata": {},
   "outputs": [],
   "source": [
    "lista=range(100)\n",
    "arr11 = np.arange(100)"
   ]
  },
  {
   "cell_type": "code",
   "execution_count": 168,
   "id": "fedc163b-86e1-429f-b47a-c0e38121c7eb",
   "metadata": {},
   "outputs": [
    {
     "name": "stdout",
     "output_type": "stream",
     "text": [
      "2800\n"
     ]
    }
   ],
   "source": [
    "import sys\n",
    "print(sys.getsizeof(12)*len(lista))"
   ]
  },
  {
   "cell_type": "code",
   "execution_count": 170,
   "id": "fd0f736f-75f6-4f5f-baf3-e5bdfa835a2e",
   "metadata": {},
   "outputs": [
    {
     "name": "stdout",
     "output_type": "stream",
     "text": [
      "400\n"
     ]
    }
   ],
   "source": [
    "print(arr11.itemsize*arr11.size)"
   ]
  },
  {
   "cell_type": "markdown",
   "id": "31599621-0771-4687-b5d4-f41154573654",
   "metadata": {},
   "source": [
    "## INDEXING SLICING AND ITERATION"
   ]
  },
  {
   "cell_type": "code",
   "execution_count": 175,
   "id": "49280679-2417-423e-a66b-0590a4a8e689",
   "metadata": {},
   "outputs": [],
   "source": [
    "import numpy as np"
   ]
  },
  {
   "cell_type": "code",
   "execution_count": 177,
   "id": "92a3a8ac-4775-4f5c-8c40-bae5c9509956",
   "metadata": {},
   "outputs": [
    {
     "name": "stdout",
     "output_type": "stream",
     "text": [
      "[[ 0  1  2  3]\n",
      " [ 4  5  6  7]\n",
      " [ 8  9 10 11]\n",
      " [12 13 14 15]\n",
      " [16 17 18 19]\n",
      " [20 21 22 23]]\n"
     ]
    }
   ],
   "source": [
    "arr = np.arange(24).reshape(6,4)\n",
    "print(arr)"
   ]
  },
  {
   "cell_type": "code",
   "execution_count": 179,
   "id": "e4f3198f-083d-4698-823b-0d79485334e2",
   "metadata": {},
   "outputs": [
    {
     "data": {
      "text/plain": [
       "array([[ 9, 10],\n",
       "       [13, 14]])"
      ]
     },
     "execution_count": 179,
     "metadata": {},
     "output_type": "execute_result"
    }
   ],
   "source": [
    "## arr[(rows),(cols)]\n",
    "arr[2:4,1:3]"
   ]
  },
  {
   "cell_type": "code",
   "execution_count": 181,
   "id": "a07750d3-2c73-4202-8afe-8acf1eb21875",
   "metadata": {},
   "outputs": [
    {
     "data": {
      "text/plain": [
       "array([[16, 17],\n",
       "       [20, 21]])"
      ]
     },
     "execution_count": 181,
     "metadata": {},
     "output_type": "execute_result"
    }
   ],
   "source": [
    "arr[4:6,0:2]"
   ]
  },
  {
   "cell_type": "code",
   "execution_count": 183,
   "id": "33de2985-ca65-4ec5-8668-294e42110499",
   "metadata": {},
   "outputs": [
    {
     "data": {
      "text/plain": [
       "array([[ 9, 10],\n",
       "       [13, 14],\n",
       "       [17, 18],\n",
       "       [21, 22]])"
      ]
     },
     "execution_count": 183,
     "metadata": {},
     "output_type": "execute_result"
    }
   ],
   "source": [
    "arr[2:6,1:3]"
   ]
  },
  {
   "cell_type": "code",
   "execution_count": 185,
   "id": "29d187fd-adc0-4dca-8fe9-acfef0c4cb41",
   "metadata": {},
   "outputs": [],
   "source": [
    "# make github acc and download \"git for windows\""
   ]
  },
  {
   "cell_type": "code",
   "execution_count": 187,
   "id": "1fb0d011-48be-4033-857e-d7be26d092fb",
   "metadata": {},
   "outputs": [],
   "source": [
    "# sajid majeed"
   ]
  },
  {
   "cell_type": "code",
   "execution_count": 189,
   "id": "ab8efbf5-653c-4b08-9a4f-6f3d66657a28",
   "metadata": {},
   "outputs": [
    {
     "name": "stdout",
     "output_type": "stream",
     "text": [
      "[[ 0  1  2  3  4  5]\n",
      " [ 6  7  8  9 10 11]\n",
      " [12 13 14 15 16 17]\n",
      " [18 19 20 21 22 23]\n",
      " [24 25 26 27 28 29]]\n"
     ]
    }
   ],
   "source": [
    "arr2 = np.arange(30).reshape(5,6)\n",
    "print(arr2)"
   ]
  },
  {
   "cell_type": "code",
   "execution_count": 191,
   "id": "837f509a-a2f1-48a4-a010-872d31113fc1",
   "metadata": {},
   "outputs": [
    {
     "data": {
      "text/plain": [
       "array([[12, 13, 14, 15, 16, 17],\n",
       "       [18, 19, 20, 21, 22, 23]])"
      ]
     },
     "execution_count": 191,
     "metadata": {},
     "output_type": "execute_result"
    }
   ],
   "source": [
    "# retrieve row number 3 and 4\n",
    "arr2[2:4]"
   ]
  },
  {
   "cell_type": "code",
   "execution_count": 193,
   "id": "534c2e07-6218-4a87-8de4-0f679a914ff2",
   "metadata": {},
   "outputs": [
    {
     "data": {
      "text/plain": [
       "array([[ 0,  1,  2,  3,  4,  5],\n",
       "       [ 6,  7,  8,  9, 10, 11],\n",
       "       [12, 13, 14, 15, 16, 17],\n",
       "       [18, 19, 20, 21, 22, 23],\n",
       "       [24, 25, 26, 27, 28, 29]])"
      ]
     },
     "execution_count": 193,
     "metadata": {},
     "output_type": "execute_result"
    }
   ],
   "source": [
    "# to retrieve all rows\n",
    "arr2[:]"
   ]
  },
  {
   "cell_type": "code",
   "execution_count": 195,
   "id": "3d4d91ca-b299-4504-bab7-a82bdba384c3",
   "metadata": {},
   "outputs": [
    {
     "data": {
      "text/plain": [
       "array([[13, 14, 15, 16],\n",
       "       [19, 20, 21, 22]])"
      ]
     },
     "execution_count": 195,
     "metadata": {},
     "output_type": "execute_result"
    }
   ],
   "source": [
    "# to retrieve specific values\n",
    "arr2[2:4,1:5]"
   ]
  },
  {
   "cell_type": "code",
   "execution_count": 197,
   "id": "576c88fc-81f7-4c16-b5eb-6fff5a6073bf",
   "metadata": {},
   "outputs": [
    {
     "data": {
      "text/plain": [
       "array([[ 1,  2,  3],\n",
       "       [ 7,  8,  9],\n",
       "       [13, 14, 15],\n",
       "       [19, 20, 21]])"
      ]
     },
     "execution_count": 197,
     "metadata": {},
     "output_type": "execute_result"
    }
   ],
   "source": [
    "arr2[0:4,1:4]"
   ]
  },
  {
   "cell_type": "code",
   "execution_count": 199,
   "id": "75d38989-4b3e-483b-835d-503724fefe17",
   "metadata": {},
   "outputs": [
    {
     "data": {
      "text/plain": [
       "array([[ 1,  2,  3,  4],\n",
       "       [ 7,  8,  9, 10],\n",
       "       [13, 14, 15, 16],\n",
       "       [19, 20, 21, 22]])"
      ]
     },
     "execution_count": 199,
     "metadata": {},
     "output_type": "execute_result"
    }
   ],
   "source": [
    "arr2[0:4,1:5]"
   ]
  },
  {
   "cell_type": "code",
   "execution_count": 201,
   "id": "bd215d10-615e-4279-bfec-e5dd2bda47c8",
   "metadata": {},
   "outputs": [
    {
     "data": {
      "text/plain": [
       "array([[ 1,  3,  5],\n",
       "       [ 7,  9, 11],\n",
       "       [13, 15, 17],\n",
       "       [19, 21, 23],\n",
       "       [25, 27, 29]])"
      ]
     },
     "execution_count": 201,
     "metadata": {},
     "output_type": "execute_result"
    }
   ],
   "source": [
    "# to skip a few columns\n",
    "# arr2[:,1::2]\n",
    "arr2[0:5,1:6:2]\n"
   ]
  },
  {
   "cell_type": "code",
   "execution_count": 203,
   "id": "3a1d0c3f-55b2-4a59-8159-6ddb1b501e7c",
   "metadata": {},
   "outputs": [
    {
     "data": {
      "text/plain": [
       "array([[ 0,  1,  2,  3,  4],\n",
       "       [12, 13, 14, 15, 16],\n",
       "       [24, 25, 26, 27, 28]])"
      ]
     },
     "execution_count": 203,
     "metadata": {},
     "output_type": "execute_result"
    }
   ],
   "source": [
    "arr2[0:6:2,0:5]"
   ]
  },
  {
   "cell_type": "code",
   "execution_count": 205,
   "id": "e7b9e13b-129e-435c-9e1d-26424ceb1abe",
   "metadata": {},
   "outputs": [
    {
     "data": {
      "text/plain": [
       "30"
      ]
     },
     "execution_count": 205,
     "metadata": {},
     "output_type": "execute_result"
    }
   ],
   "source": [
    "arr2.size"
   ]
  },
  {
   "cell_type": "code",
   "execution_count": 207,
   "id": "8fa533ac-95fe-4430-84fa-f41242890922",
   "metadata": {},
   "outputs": [
    {
     "data": {
      "text/plain": [
       "4"
      ]
     },
     "execution_count": 207,
     "metadata": {},
     "output_type": "execute_result"
    }
   ],
   "source": [
    "arr2.itemsize #tells what memory do elements store i.e 4 bytes"
   ]
  },
  {
   "cell_type": "code",
   "execution_count": 209,
   "id": "7b2fd968-461f-4e3d-81e0-834707479f0b",
   "metadata": {},
   "outputs": [
    {
     "data": {
      "text/plain": [
       "(5, 6)"
      ]
     },
     "execution_count": 209,
     "metadata": {},
     "output_type": "execute_result"
    }
   ],
   "source": [
    "arr2.shape"
   ]
  },
  {
   "cell_type": "code",
   "execution_count": 211,
   "id": "1180e882-5b3f-470f-aa33-b1a9cb76ac46",
   "metadata": {},
   "outputs": [
    {
     "data": {
      "text/plain": [
       "2"
      ]
     },
     "execution_count": 211,
     "metadata": {},
     "output_type": "execute_result"
    }
   ],
   "source": [
    "arr2.ndim #dimensions"
   ]
  },
  {
   "cell_type": "code",
   "execution_count": 213,
   "id": "5664091f-4159-4ca4-8a5d-39973ecdab3f",
   "metadata": {},
   "outputs": [
    {
     "name": "stdout",
     "output_type": "stream",
     "text": [
      "[0 1 2 3 4 5]\n",
      "[ 6  7  8  9 10 11]\n",
      "[12 13 14 15 16 17]\n",
      "[18 19 20 21 22 23]\n",
      "[24 25 26 27 28 29]\n"
     ]
    }
   ],
   "source": [
    "# for iterator(i) in iterable(array)\n",
    "for i in arr2:\n",
    "    print(i)"
   ]
  },
  {
   "cell_type": "code",
   "execution_count": 215,
   "id": "f75ccf21-c6cb-4d09-9c16-20bcbccc40bb",
   "metadata": {},
   "outputs": [
    {
     "name": "stdout",
     "output_type": "stream",
     "text": [
      "0\n",
      "1\n",
      "2\n",
      "3\n",
      "4\n",
      "5\n",
      "6\n",
      "7\n",
      "8\n",
      "9\n",
      "10\n",
      "11\n",
      "12\n",
      "13\n",
      "14\n",
      "15\n",
      "16\n",
      "17\n",
      "18\n",
      "19\n",
      "20\n",
      "21\n",
      "22\n",
      "23\n",
      "24\n",
      "25\n",
      "26\n",
      "27\n",
      "28\n",
      "29\n"
     ]
    }
   ],
   "source": [
    "# apply filter on every pixel of the image\n",
    "for i in np.nditer(arr2):\n",
    "    print(i)\n",
    "    # nditer or nd iterator reads our array/image pixel by pixel i.e gives information ofevery pixel or element"
   ]
  },
  {
   "cell_type": "markdown",
   "id": "42801b79-294f-45f9-8b2f-36d936c2bd29",
   "metadata": {},
   "source": [
    "## NUMPY OPERATIONS:"
   ]
  },
  {
   "cell_type": "code",
   "execution_count": 218,
   "id": "5d778409-5efb-4290-a0c3-377aef1dd424",
   "metadata": {},
   "outputs": [
    {
     "name": "stdout",
     "output_type": "stream",
     "text": [
      "[1 2 3 4 5 6]\n",
      "[4 5 6 7 8 9]\n"
     ]
    }
   ],
   "source": [
    "new_arr1 = np.array([1,2,3,4,5,6])\n",
    "new_arr2 = np.array([4,5,6,7,8,9])\n",
    "print(new_arr1)\n",
    "print(new_arr2)"
   ]
  },
  {
   "cell_type": "code",
   "execution_count": 220,
   "id": "7dc55bf8-7501-47ca-97ce-25c94fe27363",
   "metadata": {},
   "outputs": [
    {
     "name": "stdout",
     "output_type": "stream",
     "text": [
      "[ 5  7  9 11 13 15]\n"
     ]
    }
   ],
   "source": [
    "# Addition\n",
    "print(new_arr1 + new_arr2)"
   ]
  },
  {
   "cell_type": "code",
   "execution_count": 222,
   "id": "a022bfe3-2f5f-470b-ba24-0b76d242fb0c",
   "metadata": {},
   "outputs": [
    {
     "name": "stdout",
     "output_type": "stream",
     "text": [
      "[ 5  7  9 11 13 15]\n"
     ]
    }
   ],
   "source": [
    "sum_arr = new_arr1 + new_arr2\n",
    "print(sum_arr)"
   ]
  },
  {
   "cell_type": "code",
   "execution_count": 224,
   "id": "3cecba00-400a-4de4-b7cb-d5d2e1ea4714",
   "metadata": {},
   "outputs": [
    {
     "name": "stdout",
     "output_type": "stream",
     "text": [
      "[-3 -3 -3 -3 -3 -3]\n"
     ]
    }
   ],
   "source": [
    "## Subtraction\n",
    "print(new_arr1 - new_arr2)"
   ]
  },
  {
   "cell_type": "code",
   "execution_count": 226,
   "id": "0901154e-c779-4aa5-ae79-48e087964460",
   "metadata": {},
   "outputs": [
    {
     "name": "stdout",
     "output_type": "stream",
     "text": [
      "[ 4 10 18 28 40 54]\n"
     ]
    }
   ],
   "source": [
    "# Multiplication\n",
    "sum_arr = new_arr1 * new_arr2\n",
    "print(sum_arr)"
   ]
  },
  {
   "cell_type": "code",
   "execution_count": 228,
   "id": "b8409b09-031f-4b49-9143-0b510d2aecfa",
   "metadata": {},
   "outputs": [
    {
     "name": "stdout",
     "output_type": "stream",
     "text": [
      "[ 2  4  6  8 10 12]\n"
     ]
    }
   ],
   "source": [
    "# multiply by 2\n",
    "print(new_arr1*2)"
   ]
  },
  {
   "cell_type": "code",
   "execution_count": 230,
   "id": "9cc96a64-060a-4f51-88b0-c8f0c00375a1",
   "metadata": {},
   "outputs": [
    {
     "name": "stdout",
     "output_type": "stream",
     "text": [
      "[ 1  4  9 16 25 36]\n"
     ]
    }
   ],
   "source": [
    "# power of 2\n",
    "print(new_arr1**2)"
   ]
  },
  {
   "cell_type": "code",
   "execution_count": 232,
   "id": "b5fc9f42-605d-48c0-9818-a6c0e6d32d2b",
   "metadata": {},
   "outputs": [
    {
     "data": {
      "text/plain": [
       "array([False, False, False,  True,  True,  True])"
      ]
     },
     "execution_count": 232,
     "metadata": {},
     "output_type": "execute_result"
    }
   ],
   "source": [
    "# conditional statements\n",
    "# checks every value\n",
    "new_arr1>3"
   ]
  },
  {
   "cell_type": "code",
   "execution_count": 234,
   "id": "14fcf302-520b-4f0a-8e2a-8224392ab0ab",
   "metadata": {},
   "outputs": [
    {
     "data": {
      "text/plain": [
       "array([False, False,  True,  True,  True,  True])"
      ]
     },
     "execution_count": 234,
     "metadata": {},
     "output_type": "execute_result"
    }
   ],
   "source": [
    "# conditional statements\n",
    "# checks every value\n",
    "new_arr1>=3"
   ]
  },
  {
   "cell_type": "code",
   "execution_count": 236,
   "id": "3dc8d833-305c-440e-8d67-2c91a44db1a4",
   "metadata": {},
   "outputs": [
    {
     "name": "stdout",
     "output_type": "stream",
     "text": [
      "[[0 1 2]\n",
      " [3 4 5]]\n",
      "[[0 1]\n",
      " [2 3]\n",
      " [4 5]]\n"
     ]
    }
   ],
   "source": [
    "new_arr3 = np.arange(6).reshape(2,3)\n",
    "new_arr4 = np.arange(6).reshape(3,2)\n",
    "print(new_arr3)\n",
    "print(new_arr4)"
   ]
  },
  {
   "cell_type": "code",
   "execution_count": 238,
   "id": "d44a1852-d952-48d6-868c-47f122d7acad",
   "metadata": {},
   "outputs": [
    {
     "ename": "ValueError",
     "evalue": "operands could not be broadcast together with shapes (2,3) (3,2) ",
     "output_type": "error",
     "traceback": [
      "\u001b[1;31m---------------------------------------------------------------------------\u001b[0m",
      "\u001b[1;31mValueError\u001b[0m                                Traceback (most recent call last)",
      "Cell \u001b[1;32mIn[238], line 1\u001b[0m\n\u001b[1;32m----> 1\u001b[0m new_arr3\u001b[38;5;241m*\u001b[39mnew_arr4\n",
      "\u001b[1;31mValueError\u001b[0m: operands could not be broadcast together with shapes (2,3) (3,2) "
     ]
    }
   ],
   "source": [
    "new_arr3*new_arr4\n",
    "#gives error bcz of different shapes i.e rows and colums\n",
    "# multiplication is only possible if m*n = m*n \n",
    "# but numpy arrays work differently\n",
    "# if we want to multiply in numpy we taake dot product"
   ]
  },
  {
   "cell_type": "code",
   "execution_count": 240,
   "id": "0d1bea2e-c2df-47ea-afd3-8e46620fd651",
   "metadata": {},
   "outputs": [
    {
     "name": "stdout",
     "output_type": "stream",
     "text": [
      "[[10 13]\n",
      " [28 40]]\n"
     ]
    }
   ],
   "source": [
    "# to take dot product of 3 and 4 and store it ina new variable \n",
    "new_arr5 = new_arr3.dot(new_arr4)\n",
    "print(new_arr5)"
   ]
  },
  {
   "cell_type": "code",
   "execution_count": 242,
   "id": "e34c7638-acba-4840-b38e-ceeb19021b36",
   "metadata": {},
   "outputs": [
    {
     "data": {
      "text/plain": [
       "40"
      ]
     },
     "execution_count": 242,
     "metadata": {},
     "output_type": "execute_result"
    }
   ],
   "source": [
    "new_arr5.max()"
   ]
  },
  {
   "cell_type": "code",
   "execution_count": 244,
   "id": "330d0cdf-e666-4f1f-a09e-d605ffeb3433",
   "metadata": {},
   "outputs": [
    {
     "data": {
      "text/plain": [
       "10"
      ]
     },
     "execution_count": 244,
     "metadata": {},
     "output_type": "execute_result"
    }
   ],
   "source": [
    "new_arr5.min()"
   ]
  },
  {
   "cell_type": "code",
   "execution_count": 246,
   "id": "bde09a54-2cc6-4919-bb4b-8b51c6f9a16e",
   "metadata": {},
   "outputs": [
    {
     "data": {
      "text/plain": [
       "array([10, 13])"
      ]
     },
     "execution_count": 246,
     "metadata": {},
     "output_type": "execute_result"
    }
   ],
   "source": [
    "# to retrieve minimum in both rows anddcolums as a set\n",
    "new_arr5.min(axis=0)"
   ]
  },
  {
   "cell_type": "code",
   "execution_count": 248,
   "id": "2683f728-e620-4c16-9985-8fb0e2e0c666",
   "metadata": {},
   "outputs": [
    {
     "data": {
      "text/plain": [
       "array([28, 40])"
      ]
     },
     "execution_count": 248,
     "metadata": {},
     "output_type": "execute_result"
    }
   ],
   "source": [
    "# to retrieve maximum in both rows anddcolums as a set\n",
    "new_arr5.max(axis=0)"
   ]
  },
  {
   "cell_type": "code",
   "execution_count": 250,
   "id": "b7d6dea5-bfa2-4de4-b4ef-281ead14d329",
   "metadata": {},
   "outputs": [
    {
     "data": {
      "text/plain": [
       "array([0, 1])"
      ]
     },
     "execution_count": 250,
     "metadata": {},
     "output_type": "execute_result"
    }
   ],
   "source": [
    "# to retrieve minimum in both rows anddcolums as a set\n",
    "new_arr4.min(axis=0)"
   ]
  },
  {
   "cell_type": "code",
   "execution_count": 252,
   "id": "c2aa5f87-a15f-4a72-b7ec-d02388645020",
   "metadata": {},
   "outputs": [
    {
     "data": {
      "text/plain": [
       "array([10, 28])"
      ]
     },
     "execution_count": 252,
     "metadata": {},
     "output_type": "execute_result"
    }
   ],
   "source": [
    "# to retrieve minimum in both rows anddcolums as a set\n",
    "new_arr5.min(axis=1)"
   ]
  },
  {
   "cell_type": "code",
   "execution_count": 254,
   "id": "f47b2f22-82cf-4e85-8fcc-3372e5a91e1a",
   "metadata": {},
   "outputs": [
    {
     "name": "stdout",
     "output_type": "stream",
     "text": [
      "22.75\n",
      "12.07010770457331\n"
     ]
    }
   ],
   "source": [
    "# mean\n",
    "#median\n",
    "# standard deviation\n",
    "print(new_arr5.mean())\n",
    "print(new_arr5.std())"
   ]
  },
  {
   "cell_type": "code",
   "execution_count": 256,
   "id": "1fad3e1c-f836-4950-bb23-c8b472f11567",
   "metadata": {},
   "outputs": [
    {
     "data": {
      "text/plain": [
       "2"
      ]
     },
     "execution_count": 256,
     "metadata": {},
     "output_type": "execute_result"
    }
   ],
   "source": [
    "new_arr5.ndim"
   ]
  },
  {
   "cell_type": "code",
   "execution_count": 258,
   "id": "fd237805-eb7c-450a-8a4f-902cea3a9819",
   "metadata": {},
   "outputs": [
    {
     "name": "stdout",
     "output_type": "stream",
     "text": [
      "[[10 13]\n",
      " [28 40]]\n",
      "2\n"
     ]
    }
   ],
   "source": [
    "# reshaping numpy arrays\n",
    "print(new_arr5)\n",
    "print(new_arr5.ndim)"
   ]
  },
  {
   "cell_type": "code",
   "execution_count": 260,
   "id": "91e930b9-c33f-45dd-a4ce-9ed9a81ea34c",
   "metadata": {},
   "outputs": [
    {
     "name": "stdout",
     "output_type": "stream",
     "text": [
      "[10 13 28 40]\n",
      "1\n"
     ]
    }
   ],
   "source": [
    "# convert higher dimensional into lower dimension or one dimension\n",
    "new_arr6 =new_arr5.ravel()\n",
    "print(new_arr6)\n",
    "print(new_arr6.ndim)"
   ]
  },
  {
   "cell_type": "code",
   "execution_count": 262,
   "id": "52b7786d-4174-401e-a763-77a7f4acbe0a",
   "metadata": {},
   "outputs": [
    {
     "name": "stdout",
     "output_type": "stream",
     "text": [
      "[[10 13]\n",
      " [28 40]]\n"
     ]
    },
    {
     "data": {
      "text/plain": [
       "array([[10, 28],\n",
       "       [13, 40]])"
      ]
     },
     "execution_count": 262,
     "metadata": {},
     "output_type": "execute_result"
    }
   ],
   "source": [
    "print(new_arr5)\n",
    "new_arr5.transpose()"
   ]
  },
  {
   "cell_type": "code",
   "execution_count": 268,
   "id": "b7fc61b4-77a4-4226-ac15-9fa6a898f6e1",
   "metadata": {},
   "outputs": [
    {
     "data": {
      "text/plain": [
       "array([[0, 1],\n",
       "       [2, 3]])"
      ]
     },
     "execution_count": 268,
     "metadata": {},
     "output_type": "execute_result"
    }
   ],
   "source": [
    "new_arr6 = np.arange(4).reshape(2,2)\n",
    "new_arr6"
   ]
  },
  {
   "cell_type": "code",
   "execution_count": 270,
   "id": "508b1a7e-d078-4089-8b07-0bada61c55f3",
   "metadata": {},
   "outputs": [
    {
     "data": {
      "text/plain": [
       "array([[10, 13,  0,  1],\n",
       "       [28, 40,  2,  3]])"
      ]
     },
     "execution_count": 270,
     "metadata": {},
     "output_type": "execute_result"
    }
   ],
   "source": [
    "# stacking\n",
    "np.hstack((new_arr5,new_arr6))"
   ]
  },
  {
   "cell_type": "code",
   "execution_count": 272,
   "id": "c4ebe163-2927-4598-9dec-950350f660e7",
   "metadata": {},
   "outputs": [
    {
     "name": "stdout",
     "output_type": "stream",
     "text": [
      "[[0 1]\n",
      " [2 3]]\n"
     ]
    }
   ],
   "source": [
    "new_arr6 = np.arange(4).reshape(2,2)\n",
    "print(new_arr6)"
   ]
  },
  {
   "cell_type": "code",
   "execution_count": 274,
   "id": "9aaeba45-77e4-4344-af0a-d4551b607c59",
   "metadata": {},
   "outputs": [
    {
     "data": {
      "text/plain": [
       "array([[10, 13,  0,  1],\n",
       "       [28, 40,  2,  3]])"
      ]
     },
     "execution_count": 274,
     "metadata": {},
     "output_type": "execute_result"
    }
   ],
   "source": [
    "np.hstack((new_arr5,new_arr6)) # horizontal"
   ]
  },
  {
   "cell_type": "code",
   "execution_count": 276,
   "id": "61901b6e-95e5-42ec-86a2-1b08786bcbd2",
   "metadata": {},
   "outputs": [
    {
     "name": "stdout",
     "output_type": "stream",
     "text": [
      "[1 2 3 4 5 6 7 8]\n",
      "[ 4  5  6  7  8  9 10 11]\n"
     ]
    }
   ],
   "source": [
    "new_arr7 = np.array([1,2,3,4,5,6,7,8])\n",
    "new_arr8 = np.array([4,5,6,7,8,9,10,11])\n",
    "print(new_arr7)\n",
    "print(new_arr8)"
   ]
  },
  {
   "cell_type": "code",
   "execution_count": 278,
   "id": "a21d071b-97ba-4a6a-aa0e-82907feb27a3",
   "metadata": {},
   "outputs": [
    {
     "data": {
      "text/plain": [
       "array([[10, 13],\n",
       "       [28, 40],\n",
       "       [ 0,  1],\n",
       "       [ 2,  3]])"
      ]
     },
     "execution_count": 278,
     "metadata": {},
     "output_type": "execute_result"
    }
   ],
   "source": [
    "np.vstack((new_arr5,new_arr6)) # vertical"
   ]
  },
  {
   "cell_type": "code",
   "execution_count": 280,
   "id": "5eafa524-f6f1-4b9c-bdcb-5e9d8f9ff85f",
   "metadata": {},
   "outputs": [
    {
     "data": {
      "text/plain": [
       "[array([[10],\n",
       "        [28]]),\n",
       " array([[13],\n",
       "        [40]])]"
      ]
     },
     "execution_count": 280,
     "metadata": {},
     "output_type": "execute_result"
    }
   ],
   "source": [
    "# split\n",
    "np.hsplit(new_arr5,2)"
   ]
  },
  {
   "cell_type": "code",
   "execution_count": 282,
   "id": "3a6825de-e0da-4a09-a4e6-e5e100afa198",
   "metadata": {},
   "outputs": [
    {
     "data": {
      "text/plain": [
       "[array([[10, 13]]), array([[28, 40]])]"
      ]
     },
     "execution_count": 282,
     "metadata": {},
     "output_type": "execute_result"
    }
   ],
   "source": [
    "# split\n",
    "np.vsplit(new_arr5,2)"
   ]
  }
 ],
 "metadata": {
  "kernelspec": {
   "display_name": "Python 3 (ipykernel)",
   "language": "python",
   "name": "python3"
  },
  "language_info": {
   "codemirror_mode": {
    "name": "ipython",
    "version": 3
   },
   "file_extension": ".py",
   "mimetype": "text/x-python",
   "name": "python",
   "nbconvert_exporter": "python",
   "pygments_lexer": "ipython3",
   "version": "3.12.4"
  }
 },
 "nbformat": 4,
 "nbformat_minor": 5
}
