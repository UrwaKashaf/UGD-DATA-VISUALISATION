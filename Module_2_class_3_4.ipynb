{
 "cells": [
  {
   "cell_type": "code",
   "execution_count": 1,
   "id": "b77368be-2e91-4307-a233-a31486973434",
   "metadata": {},
   "outputs": [],
   "source": [
    "import numpy as np"
   ]
  },
  {
   "cell_type": "markdown",
   "id": "620f6414-5b47-4acd-bc39-d7bc91afdc93",
   "metadata": {},
   "source": [
    " # FANCY INDEXING "
   ]
  },
  {
   "cell_type": "code",
   "execution_count": 4,
   "id": "4fe3bd5f-d5c8-4783-b129-0a8fa30da7d5",
   "metadata": {},
   "outputs": [],
   "source": [
    "new_arr7 = np.arange(24).reshape(6,4)"
   ]
  },
  {
   "cell_type": "code",
   "execution_count": 5,
   "id": "0c96013b-f488-46ef-890c-c0a650b179b8",
   "metadata": {},
   "outputs": [
    {
     "data": {
      "text/plain": [
       "array([[ 0,  1,  2,  3],\n",
       "       [ 4,  5,  6,  7],\n",
       "       [ 8,  9, 10, 11],\n",
       "       [12, 13, 14, 15],\n",
       "       [16, 17, 18, 19],\n",
       "       [20, 21, 22, 23]])"
      ]
     },
     "execution_count": 5,
     "metadata": {},
     "output_type": "execute_result"
    }
   ],
   "source": [
    "new_arr7"
   ]
  },
  {
   "cell_type": "code",
   "execution_count": 6,
   "id": "5191e949-a0c0-4bc0-a629-e70f3ab43ef3",
   "metadata": {},
   "outputs": [
    {
     "name": "stdout",
     "output_type": "stream",
     "text": [
      "[[ 0  1  2  3]\n",
      " [ 4  5  6  7]\n",
      " [ 8  9 10 11]\n",
      " [12 13 14 15]\n",
      " [16 17 18 19]\n",
      " [20 21 22 23]]\n"
     ]
    }
   ],
   "source": [
    "print(new_arr7[:,:])"
   ]
  },
  {
   "cell_type": "code",
   "execution_count": 7,
   "id": "55e532ea-b0cb-4885-95d2-890d6a210396",
   "metadata": {},
   "outputs": [
    {
     "name": "stdout",
     "output_type": "stream",
     "text": [
      "[[ 1  2]\n",
      " [ 5  6]\n",
      " [ 9 10]]\n"
     ]
    }
   ],
   "source": [
    "print(new_arr7[0:3,1:3])"
   ]
  },
  {
   "cell_type": "code",
   "execution_count": 12,
   "id": "fd5182cd-536b-4740-9920-179368f5871a",
   "metadata": {},
   "outputs": [
    {
     "name": "stdout",
     "output_type": "stream",
     "text": [
      "[[ 4  5  6  7]\n",
      " [12 13 14 15]\n",
      " [20 21 22 23]]\n"
     ]
    }
   ],
   "source": [
    "print(new_arr7[[1,3,5]])"
   ]
  },
  {
   "cell_type": "code",
   "execution_count": 13,
   "id": "eaac7397-8b09-4392-96d9-4705388e77c0",
   "metadata": {},
   "outputs": [
    {
     "data": {
      "text/plain": [
       "array([[ 8, 68, 28, 70, 83],\n",
       "       [ 7, 73, 73, 99, 63],\n",
       "       [87, 33, 86, 89,  3],\n",
       "       [59, 77, 89, 79, 93]])"
      ]
     },
     "execution_count": 13,
     "metadata": {},
     "output_type": "execute_result"
    }
   ],
   "source": [
    "# for binary array\n",
    "new_arr = np.random.randint(low=1, high=100,size=20).reshape(4,5)\n",
    "new_arr"
   ]
  },
  {
   "cell_type": "code",
   "execution_count": 14,
   "id": "8bd1100f-0bd8-481d-957b-11e7d6834acf",
   "metadata": {},
   "outputs": [],
   "source": [
    "# new_arr.reshape(4,5)"
   ]
  },
  {
   "cell_type": "code",
   "execution_count": 15,
   "id": "8ec574f1-d98c-40f4-932e-85d62231a488",
   "metadata": {},
   "outputs": [],
   "source": [
    "# new_arr.reshape(5,4)"
   ]
  },
  {
   "cell_type": "code",
   "execution_count": 16,
   "id": "aa6790ee-6b0f-4861-b887-e134e457a3db",
   "metadata": {},
   "outputs": [
    {
     "data": {
      "text/plain": [
       "87"
      ]
     },
     "execution_count": 16,
     "metadata": {},
     "output_type": "execute_result"
    }
   ],
   "source": [
    "new_arr[2][0]"
   ]
  },
  {
   "cell_type": "code",
   "execution_count": 17,
   "id": "75361654-e5cd-4954-9b32-52c0c23f08e4",
   "metadata": {},
   "outputs": [
    {
     "data": {
      "text/plain": [
       "array([[False,  True, False,  True,  True],\n",
       "       [False,  True,  True,  True,  True],\n",
       "       [ True, False,  True,  True, False],\n",
       "       [ True,  True,  True,  True,  True]])"
      ]
     },
     "execution_count": 17,
     "metadata": {},
     "output_type": "execute_result"
    }
   ],
   "source": [
    "new_arr>50"
   ]
  },
  {
   "cell_type": "code",
   "execution_count": 18,
   "id": "21741134-586d-45bc-a7bd-4d05a8b87313",
   "metadata": {},
   "outputs": [
    {
     "data": {
      "text/plain": [
       "array([[ True, False,  True, False, False],\n",
       "       [ True, False, False, False, False],\n",
       "       [False,  True, False, False,  True],\n",
       "       [False, False, False, False, False]])"
      ]
     },
     "execution_count": 18,
     "metadata": {},
     "output_type": "execute_result"
    }
   ],
   "source": [
    "new_arr<50"
   ]
  },
  {
   "cell_type": "code",
   "execution_count": 19,
   "id": "297b2b76-86cd-4afd-a878-b2df266c98c4",
   "metadata": {},
   "outputs": [
    {
     "data": {
      "text/plain": [
       "array([68, 70, 83, 73, 73, 99, 63, 87, 86, 89, 59, 77, 89, 79, 93])"
      ]
     },
     "execution_count": 19,
     "metadata": {},
     "output_type": "execute_result"
    }
   ],
   "source": [
    "new_arr[new_arr>50]"
   ]
  },
  {
   "cell_type": "code",
   "execution_count": 20,
   "id": "f777cb36-c128-4e03-b7ee-fadce05415b6",
   "metadata": {},
   "outputs": [
    {
     "data": {
      "text/plain": [
       "array([83, 73, 73, 99, 63, 87, 89, 59, 77, 89, 79, 93])"
      ]
     },
     "execution_count": 20,
     "metadata": {},
     "output_type": "execute_result"
    }
   ],
   "source": [
    "# retrieves all odd numbers wuth value greater than 50\n",
    "new_arr[(new_arr>50)&(new_arr%2 !=0)] "
   ]
  },
  {
   "cell_type": "code",
   "execution_count": 21,
   "id": "3625be38-d627-422d-a331-09146cf3e968",
   "metadata": {},
   "outputs": [
    {
     "data": {
      "text/plain": [
       "array([68, 70, 86])"
      ]
     },
     "execution_count": 21,
     "metadata": {},
     "output_type": "execute_result"
    }
   ],
   "source": [
    "# retrieves all even numbers wuth value greater than 50\n",
    "new_arr[(new_arr>50)&(new_arr%2 ==0)] "
   ]
  },
  {
   "cell_type": "code",
   "execution_count": 22,
   "id": "7f563a50-0bba-4475-89ad-9014af2a862d",
   "metadata": {},
   "outputs": [
    {
     "data": {
      "text/plain": [
       "array([[ 8, 68, 28, 70,  0],\n",
       "       [ 7,  0,  0,  0,  0],\n",
       "       [ 0, 33, 86,  0,  3],\n",
       "       [ 0,  0,  0,  0,  0]])"
      ]
     },
     "execution_count": 22,
     "metadata": {},
     "output_type": "execute_result"
    }
   ],
   "source": [
    "# retrieves all odd numbers wuth value greater than 50 Nd replace these numbers with zero\n",
    "new_arr[(new_arr>50)&(new_arr%2 !=0)]=0\n",
    "new_arr"
   ]
  },
  {
   "cell_type": "code",
   "execution_count": 23,
   "id": "3984d12f-936f-49c9-a5da-72d3eaddc1e3",
   "metadata": {},
   "outputs": [
    {
     "data": {
      "text/plain": [
       "array([[ 8, 68, 28, 70,  0],\n",
       "       [ 7,  0,  0,  0,  0],\n",
       "       [ 0, 33, 86,  0,  3],\n",
       "       [ 0,  0,  0,  0,  0]])"
      ]
     },
     "execution_count": 23,
     "metadata": {},
     "output_type": "execute_result"
    }
   ],
   "source": [
    "# retrieves all odd numbers wuth value greater than 50 Nd replace these numbers with ten\n",
    "new_arr[(new_arr>50)&(new_arr%2 !=0)]=10\n",
    "new_arr"
   ]
  },
  {
   "cell_type": "code",
   "execution_count": 24,
   "id": "edf2138e-4e6f-4a8d-bffb-83c0e049cf76",
   "metadata": {},
   "outputs": [
    {
     "data": {
      "text/plain": [
       "array([-30.        , -29.39393939, -28.78787879, -28.18181818,\n",
       "       -27.57575758, -26.96969697, -26.36363636, -25.75757576,\n",
       "       -25.15151515, -24.54545455, -23.93939394, -23.33333333,\n",
       "       -22.72727273, -22.12121212, -21.51515152, -20.90909091,\n",
       "       -20.3030303 , -19.6969697 , -19.09090909, -18.48484848,\n",
       "       -17.87878788, -17.27272727, -16.66666667, -16.06060606,\n",
       "       -15.45454545, -14.84848485, -14.24242424, -13.63636364,\n",
       "       -13.03030303, -12.42424242, -11.81818182, -11.21212121,\n",
       "       -10.60606061, -10.        ,  -9.39393939,  -8.78787879,\n",
       "        -8.18181818,  -7.57575758,  -6.96969697,  -6.36363636,\n",
       "        -5.75757576,  -5.15151515,  -4.54545455,  -3.93939394,\n",
       "        -3.33333333,  -2.72727273,  -2.12121212,  -1.51515152,\n",
       "        -0.90909091,  -0.3030303 ,   0.3030303 ,   0.90909091,\n",
       "         1.51515152,   2.12121212,   2.72727273,   3.33333333,\n",
       "         3.93939394,   4.54545455,   5.15151515,   5.75757576,\n",
       "         6.36363636,   6.96969697,   7.57575758,   8.18181818,\n",
       "         8.78787879,   9.39393939,  10.        ,  10.60606061,\n",
       "        11.21212121,  11.81818182,  12.42424242,  13.03030303,\n",
       "        13.63636364,  14.24242424,  14.84848485,  15.45454545,\n",
       "        16.06060606,  16.66666667,  17.27272727,  17.87878788,\n",
       "        18.48484848,  19.09090909,  19.6969697 ,  20.3030303 ,\n",
       "        20.90909091,  21.51515152,  22.12121212,  22.72727273,\n",
       "        23.33333333,  23.93939394,  24.54545455,  25.15151515,\n",
       "        25.75757576,  26.36363636,  26.96969697,  27.57575758,\n",
       "        28.18181818,  28.78787879,  29.39393939,  30.        ])"
      ]
     },
     "execution_count": 24,
     "metadata": {},
     "output_type": "execute_result"
    }
   ],
   "source": [
    "# linspace used to create an evenly distributed space according to a given range\n",
    "x = np.linspace(-30,30,100)\n",
    "x"
   ]
  },
  {
   "cell_type": "code",
   "execution_count": 25,
   "id": "8fef9ae5-a6a6-4825-a3b1-64bd2ae59ade",
   "metadata": {},
   "outputs": [
    {
     "data": {
      "text/plain": [
       "array([ 0.98803162,  0.8999285 ,  0.49126797, -0.09238378, -0.64312813,\n",
       "       -0.96478819, -0.94278761, -0.58496307, -0.01877282,  0.55410437,\n",
       "        0.92960782,  0.97398199,  0.67142066,  0.12969715, -0.4582249 ,\n",
       "       -0.88292578, -0.99312567, -0.74957103, -0.23901679,  0.35667599,\n",
       "        0.82531964,  0.99998181,  0.81844725,  0.34537917, -0.25071407,\n",
       "       -0.75750216, -0.99446556, -0.87719715, -0.44746832,  0.14165016,\n",
       "        0.68031241,  0.97664519,  0.92509384,  0.54402111, -0.03083368,\n",
       "       -0.59470541, -0.94674118, -0.96154471, -0.63384295, -0.0803643 ,\n",
       "        0.50174037,  0.90512352,  0.98609877,  0.7158225 ,  0.19056796,\n",
       "       -0.40256749, -0.85230712, -0.99845223, -0.78894546, -0.2984138 ,\n",
       "        0.2984138 ,  0.78894546,  0.99845223,  0.85230712,  0.40256749,\n",
       "       -0.19056796, -0.7158225 , -0.98609877, -0.90512352, -0.50174037,\n",
       "        0.0803643 ,  0.63384295,  0.96154471,  0.94674118,  0.59470541,\n",
       "        0.03083368, -0.54402111, -0.92509384, -0.97664519, -0.68031241,\n",
       "       -0.14165016,  0.44746832,  0.87719715,  0.99446556,  0.75750216,\n",
       "        0.25071407, -0.34537917, -0.81844725, -0.99998181, -0.82531964,\n",
       "       -0.35667599,  0.23901679,  0.74957103,  0.99312567,  0.88292578,\n",
       "        0.4582249 , -0.12969715, -0.67142066, -0.97398199, -0.92960782,\n",
       "       -0.55410437,  0.01877282,  0.58496307,  0.94278761,  0.96478819,\n",
       "        0.64312813,  0.09238378, -0.49126797, -0.8999285 , -0.98803162])"
      ]
     },
     "execution_count": 25,
     "metadata": {},
     "output_type": "execute_result"
    }
   ],
   "source": [
    "y=np.sin(x)\n",
    "y"
   ]
  },
  {
   "cell_type": "code",
   "execution_count": 26,
   "id": "d5adfed0-6221-4011-97e6-801e83c67a8d",
   "metadata": {},
   "outputs": [
    {
     "ename": "SyntaxError",
     "evalue": "invalid decimal literal (2717739701.py, line 1)",
     "output_type": "error",
     "traceback": [
      "\u001b[1;36m  Cell \u001b[1;32mIn[26], line 1\u001b[1;36m\u001b[0m\n\u001b[1;33m    f(x)=2x*3x+5\u001b[0m\n\u001b[1;37m         ^\u001b[0m\n\u001b[1;31mSyntaxError\u001b[0m\u001b[1;31m:\u001b[0m invalid decimal literal\n"
     ]
    }
   ],
   "source": [
    "f(x)=2x*3x+5\n",
    "if x=3"
   ]
  },
  {
   "cell_type": "code",
   "execution_count": 27,
   "id": "7c0f4587-94d1-47a6-bbc2-704715f89c5b",
   "metadata": {},
   "outputs": [],
   "source": [
    "import matplotlib.pyplot as plt"
   ]
  },
  {
   "cell_type": "code",
   "execution_count": 28,
   "id": "d8b1eb19-8c78-4d1c-aaef-82f5a5eca60d",
   "metadata": {},
   "outputs": [
    {
     "data": {
      "image/png": "[encoded data removed]",
      "text/plain": [
       "<Figure size 640x480 with 1 Axes>"
      ]
     },
     "metadata": {},
     "output_type": "display_data"
    }
   ],
   "source": [
    "plt.title(\"Sine Wave\",fontsize = 15, color= \"green\")\n",
    "plt.xlabel(\"x values\",fontsize = 10, color= \"red\")\n",
    "plt.ylabel(\"sine values\",fontsize = 10, color= \"red\") # assign names\n",
    "plt.plot(x,y, color= \"yellow\") # map you data\n",
    "plt.show() #execute"
   ]
  },
  {
   "cell_type": "code",
   "execution_count": 29,
   "id": "c68bf97d-19da-4e70-9319-0153f160c77d",
   "metadata": {},
   "outputs": [
    {
     "data": {
      "text/plain": [
       "array([-30.        , -29.39393939, -28.78787879, -28.18181818,\n",
       "       -27.57575758, -26.96969697, -26.36363636, -25.75757576,\n",
       "       -25.15151515, -24.54545455, -23.93939394, -23.33333333,\n",
       "       -22.72727273, -22.12121212, -21.51515152, -20.90909091,\n",
       "       -20.3030303 , -19.6969697 , -19.09090909, -18.48484848,\n",
       "       -17.87878788, -17.27272727, -16.66666667, -16.06060606,\n",
       "       -15.45454545, -14.84848485, -14.24242424, -13.63636364,\n",
       "       -13.03030303, -12.42424242, -11.81818182, -11.21212121,\n",
       "       -10.60606061, -10.        ,  -9.39393939,  -8.78787879,\n",
       "        -8.18181818,  -7.57575758,  -6.96969697,  -6.36363636,\n",
       "        -5.75757576,  -5.15151515,  -4.54545455,  -3.93939394,\n",
       "        -3.33333333,  -2.72727273,  -2.12121212,  -1.51515152,\n",
       "        -0.90909091,  -0.3030303 ,   0.3030303 ,   0.90909091,\n",
       "         1.51515152,   2.12121212,   2.72727273,   3.33333333,\n",
       "         3.93939394,   4.54545455,   5.15151515,   5.75757576,\n",
       "         6.36363636,   6.96969697,   7.57575758,   8.18181818,\n",
       "         8.78787879,   9.39393939,  10.        ,  10.60606061,\n",
       "        11.21212121,  11.81818182,  12.42424242,  13.03030303,\n",
       "        13.63636364,  14.24242424,  14.84848485,  15.45454545,\n",
       "        16.06060606,  16.66666667,  17.27272727,  17.87878788,\n",
       "        18.48484848,  19.09090909,  19.6969697 ,  20.3030303 ,\n",
       "        20.90909091,  21.51515152,  22.12121212,  22.72727273,\n",
       "        23.33333333,  23.93939394,  24.54545455,  25.15151515,\n",
       "        25.75757576,  26.36363636,  26.96969697,  27.57575758,\n",
       "        28.18181818,  28.78787879,  29.39393939,  30.        ])"
      ]
     },
     "execution_count": 29,
     "metadata": {},
     "output_type": "execute_result"
    }
   ],
   "source": [
    "X = np.linspace(-30,30,100)\n",
    "X"
   ]
  },
  {
   "cell_type": "code",
   "execution_count": 30,
   "id": "bfa218d5-f222-4ce1-9376-7a516fb8f285",
   "metadata": {},
   "outputs": [
    {
     "data": {
      "text/plain": [
       "array([ 0.15425145, -0.43603749, -0.87100849, -0.99572347, -0.76575858,\n",
       "       -0.26302803,  0.33339394,  0.81105993,  0.99982378,  0.8324472 ,\n",
       "        0.36855028, -0.22662544, -0.74107644, -0.99155365, -0.88883629,\n",
       "       -0.46951259,  0.11705299,  0.66192392,  0.97101543,  0.93422815,\n",
       "        0.56466582, -0.00603229, -0.57458167, -0.93846323, -0.96806118,\n",
       "       -0.65283266, -0.10506305,  0.48013035,  0.89429979,  0.98991678,\n",
       "        0.73292225,  0.21485848, -0.37973857, -0.83907153, -0.99952453,\n",
       "       -0.8039437 , -0.32199555,  0.27464844,  0.77346177,  0.99676556,\n",
       "        0.86501827,  0.4251487 , -0.16616018, -0.69828229, -0.981674  ,\n",
       "       -0.91539031, -0.52304166,  0.0556161 ,  0.61446323,  0.95443659,\n",
       "        0.95443659,  0.61446323,  0.0556161 , -0.52304166, -0.91539031,\n",
       "       -0.981674  , -0.69828229, -0.16616018,  0.4251487 ,  0.86501827,\n",
       "        0.99676556,  0.77346177,  0.27464844, -0.32199555, -0.8039437 ,\n",
       "       -0.99952453, -0.83907153, -0.37973857,  0.21485848,  0.73292225,\n",
       "        0.98991678,  0.89429979,  0.48013035, -0.10506305, -0.65283266,\n",
       "       -0.96806118, -0.93846323, -0.57458167, -0.00603229,  0.56466582,\n",
       "        0.93422815,  0.97101543,  0.66192392,  0.11705299, -0.46951259,\n",
       "       -0.88883629, -0.99155365, -0.74107644, -0.22662544,  0.36855028,\n",
       "        0.8324472 ,  0.99982378,  0.81105993,  0.33339394, -0.26302803,\n",
       "       -0.76575858, -0.99572347, -0.87100849, -0.43603749,  0.15425145])"
      ]
     },
     "execution_count": 30,
     "metadata": {},
     "output_type": "execute_result"
    }
   ],
   "source": [
    "Y = np.cos(X)\n",
    "Y"
   ]
  },
  {
   "cell_type": "code",
   "execution_count": 31,
   "id": "4424e01f-195c-4a73-bd09-68517d5b7fa7",
   "metadata": {},
   "outputs": [
    {
     "data": {
      "image/png": "[encoded data removed]",
      "text/plain": [
       "<Figure size 640x480 with 1 Axes>"
      ]
     },
     "metadata": {},
     "output_type": "display_data"
    }
   ],
   "source": [
    "plt.title(\"Sine Wave\",fontsize = 15, color= \"purple\")\n",
    "plt.xlabel(\"x values\",fontsize = 10, color= \"brown\")\n",
    "plt.ylabel(\"sine values\",fontsize = 10, color= \"brown\") # assign names\n",
    "plt.plot(X,Y, color= \"pink\") # map you data\n",
    "plt.show() #execute"
   ]
  },
  {
   "cell_type": "code",
   "execution_count": 32,
   "id": "f1191d07-0d85-41bf-9324-fd3c16992a5a",
   "metadata": {},
   "outputs": [],
   "source": [
    "y = x**2+2*x+6"
   ]
  },
  {
   "cell_type": "code",
   "execution_count": 33,
   "id": "270753b2-ac49-49d8-875b-aac5ea0ae51a",
   "metadata": {},
   "outputs": [
    {
     "data": {
      "image/png": "[encoded data removed]",
      "text/plain": [
       "<Figure size 640x480 with 1 Axes>"
      ]
     },
     "metadata": {},
     "output_type": "display_data"
    }
   ],
   "source": [
    "plt.title(\"quadratic equations\",fontsize = 15, color= \"purple\")\n",
    "plt.xlabel(\"x values\",fontsize = 10, color= \"brown\")\n",
    "plt.ylabel(\"sine values\",fontsize = 10, color= \"brown\") # assign names\n",
    "plt.plot(x,y, color= \"pink\") # map your data\n",
    "plt.show() #execute"
   ]
  },
  {
   "cell_type": "markdown",
   "id": "f96340ed-ab62-45f4-8d25-ab04d35d403d",
   "metadata": {},
   "source": [
    "## Broadcasting\r\n",
    "The term broadcasting refers to the ability of NumPy to treat arrays of different shapes during arithmetic operations. Arithmetic operations on arrays are usually done on corresponding elements. If two arrays are of exactly the same shape, then these operations are smoothly performed.\r\n",
    "If the dimensions of two arrays are dissimilar, element-to-element operations are not possible. However, operations on arrays of non-similar shapes is still possible in NumPy, because of the broadcasting capability. The smaller array is broadcast to the size of the larger array so that they have compatible shapes"
   ]
  },
  {
   "cell_type": "code",
   "execution_count": 35,
   "id": "ff8c721c-0b05-49f1-b109-8fa074539ddd",
   "metadata": {},
   "outputs": [
    {
     "data": {
      "text/plain": [
       "array([0, 1, 2])"
      ]
     },
     "execution_count": 35,
     "metadata": {},
     "output_type": "execute_result"
    }
   ],
   "source": [
    "np.arange(3)"
   ]
  },
  {
   "cell_type": "code",
   "execution_count": 36,
   "id": "803e4637-d8ff-45ed-8152-02fd18bbadc9",
   "metadata": {},
   "outputs": [
    {
     "data": {
      "text/plain": [
       "array([5, 6, 7])"
      ]
     },
     "execution_count": 36,
     "metadata": {},
     "output_type": "execute_result"
    }
   ],
   "source": [
    "np.arange(3)+5"
   ]
  },
  {
   "cell_type": "code",
   "execution_count": 37,
   "id": "8cc822be-2f55-4db2-a9fd-636f0ba481a4",
   "metadata": {},
   "outputs": [
    {
     "data": {
      "text/plain": [
       "array([[1., 2., 3.],\n",
       "       [1., 2., 3.],\n",
       "       [1., 2., 3.]])"
      ]
     },
     "execution_count": 37,
     "metadata": {},
     "output_type": "execute_result"
    }
   ],
   "source": [
    "np.ones((3,3))+ np.arange(3)"
   ]
  },
  {
   "cell_type": "code",
   "execution_count": 38,
   "id": "25c1db52-044f-4a06-8202-492685ed94ec",
   "metadata": {},
   "outputs": [
    {
     "data": {
      "text/plain": [
       "array([[0, 1, 2],\n",
       "       [1, 2, 3],\n",
       "       [2, 3, 4]])"
      ]
     },
     "execution_count": 38,
     "metadata": {},
     "output_type": "execute_result"
    }
   ],
   "source": [
    "np.arange(3).reshape(3,1)+np.arange(3)"
   ]
  },
  {
   "cell_type": "code",
   "execution_count": 39,
   "id": "f8e8f9ee-bd9c-4215-b468-a18b4b5d8da7",
   "metadata": {},
   "outputs": [
    {
     "name": "stdout",
     "output_type": "stream",
     "text": [
      "[[0 1 2 3]\n",
      " [4 5 6 7]]\n",
      "[[ 8  9 10 11]\n",
      " [12 13 14 15]]\n",
      "[[ 8 10 12 14]\n",
      " [16 18 20 22]]\n"
     ]
    }
   ],
   "source": [
    "# if x=m and y=n , operation will take place\n",
    "a1 = np.arange(8).reshape(2,4)\n",
    "print(a1)\n",
    "a2 = np.arange(8,16).reshape(2,4)\n",
    "print(a2)\n",
    "print(a1+a2)"
   ]
  },
  {
   "cell_type": "code",
   "execution_count": 119,
   "id": "493ad016-0f54-4ef8-b2da-dda00e13a730",
   "metadata": {},
   "outputs": [
    {
     "name": "stdout",
     "output_type": "stream",
     "text": [
      "[[0 1 2]]\n",
      "[[0 1 2]]\n",
      "[[ 0  1  2]\n",
      " [ 3  4  5]\n",
      " [ 6  7  8]\n",
      " [ 9 10 11]]\n",
      "[[ 0  2  4]\n",
      " [ 3  5  7]\n",
      " [ 6  8 10]\n",
      " [ 9 11 13]]\n"
     ]
    }
   ],
   "source": [
    "# if x=1 and y=n , then also operation will take place\n",
    "a3 = np.arange(3).reshape(1,3) #check corresponding element\n",
    "print(a3)\n",
    "a4 = np.arange(12).reshape(4,3)\n",
    "print(a3)\n",
    "print(a4)\n",
    "print(a3+a4)"
   ]
  },
  {
   "cell_type": "code",
   "execution_count": 121,
   "id": "348ef229-9b72-4c9e-a4e7-43c377e52e15",
   "metadata": {},
   "outputs": [
    {
     "name": "stdout",
     "output_type": "stream",
     "text": [
      "[[0 1 2]]\n",
      "[[ 0  1  2]\n",
      " [ 3  4  5]\n",
      " [ 6  7  8]\n",
      " [ 9 10 11]]\n",
      "[[0 1 2]]\n",
      "[[ 0  2  4]\n",
      " [ 3  5  7]\n",
      " [ 6  8 10]\n",
      " [ 9 11 13]]\n"
     ]
    }
   ],
   "source": [
    "# if x=1 and y=n , then also operation will take place\n",
    "a5= np.arange(3).reshape(1,3) #check corresponding element\n",
    "print(a3)\n",
    "a6 = np.arange(12).reshape(4,3)\n",
    "print(a6)\n",
    "print(a5)\n",
    "print(a5+a6)"
   ]
  },
  {
   "cell_type": "markdown",
   "id": "1e03a18c-24f5-433e-ac38-b2493a78c23a",
   "metadata": {},
   "source": [
    "# Primary data:\n",
    "is original data collected by a researcher.\n",
    "# Secondary data:\n",
    "is information that has already been collected by someone else"
   ]
  },
  {
   "cell_type": "markdown",
   "id": "e804ccb7-7998-4586-b6e7-17ea9a9539ab",
   "metadata": {},
   "source": [
    "# Unstructured Data:\n",
    "Every data that is not in tabular form is unstructured.\n",
    "# Structured Data:\n",
    "Every data that is not in tabular form i.e has rows and columns is structured data."
   ]
  },
  {
   "cell_type": "markdown",
   "id": "7a6e8bbf-5408-493b-8b9a-582e1d4e1ef3",
   "metadata": {},
   "source": [
    "## PANDAS"
   ]
  },
  {
   "cell_type": "markdown",
   "id": "5a0e5af3-260e-4578-8755-fedfebacebb4",
   "metadata": {},
   "source": [
    "Pandas is a Python library used for working with data sets.\n",
    "\r\n",
    "It has functions for analyzing, cleaning, exploring, and manipulating dat\n",
    "High performance, easy to use, handles data structures and performs analysis on it.\n",
    "Pandas handles ordered or unordered data, observational or statistical, labelled or unlabelled.a."
   ]
  },
  {
   "cell_type": "code",
   "execution_count": 52,
   "id": "f6a3f949-1dab-4d10-8e97-fa8f4d2a3fb0",
   "metadata": {},
   "outputs": [],
   "source": [
    "import pandas as pd\n",
    "import numpy as np"
   ]
  },
  {
   "cell_type": "code",
   "execution_count": 54,
   "id": "fbd93dec-8aaa-4eea-85aa-7e28f5eb159a",
   "metadata": {},
   "outputs": [
    {
     "data": {
      "text/plain": [
       "array([ 0,  1,  2,  3,  4,  5,  6,  7,  8,  9, 10, 11, 12, 13, 14, 15, 16,\n",
       "       17, 18, 19])"
      ]
     },
     "execution_count": 54,
     "metadata": {},
     "output_type": "execute_result"
    }
   ],
   "source": [
    "new_arr = np.arange(0,20)\n",
    "new_arr"
   ]
  },
  {
   "cell_type": "code",
   "execution_count": 56,
   "id": "5a662166-1883-4182-868f-76aa75d269a3",
   "metadata": {},
   "outputs": [
    {
     "name": "stdout",
     "output_type": "stream",
     "text": [
      "[[ 0  1  2  3]\n",
      " [ 4  5  6  7]\n",
      " [ 8  9 10 11]\n",
      " [12 13 14 15]\n",
      " [16 17 18 19]]\n"
     ]
    }
   ],
   "source": [
    "new_arr = np.arange(20).reshape(5,4)\n",
    "print(new_arr)"
   ]
  },
  {
   "cell_type": "code",
   "execution_count": 58,
   "id": "2e2f73e7-7982-40b6-a081-65c5cf58db1c",
   "metadata": {},
   "outputs": [
    {
     "name": "stdout",
     "output_type": "stream",
     "text": [
      "      Column1  Column2  Column3  Column4\n",
      "Row1        0        1        2        3\n",
      "Row2        4        5        6        7\n",
      "Row3        8        9       10       11\n",
      "Row4       12       13       14       15\n",
      "Row5       16       17       18       19\n"
     ]
    }
   ],
   "source": [
    "df = pd.DataFrame(new_arr,index=['Row1','Row2','Row3','Row4','Row5'],columns=['Column1','Column2','Column3','Column4'])\n",
    "print(df)"
   ]
  },
  {
   "cell_type": "code",
   "execution_count": 60,
   "id": "dc7d66ec-e398-4647-8b0f-0d758d0a3fac",
   "metadata": {},
   "outputs": [
    {
     "data": {
      "text/html": [
       "<div>\n",
       "<style scoped>\n",
       "    .dataframe tbody tr th:only-of-type {\n",
       "        vertical-align: middle;\n",
       "    }\n",
       "\n",
       "    .dataframe tbody tr th {\n",
       "        vertical-align: top;\n",
       "    }\n",
       "\n",
       "    .dataframe thead th {\n",
       "        text-align: right;\n",
       "    }\n",
       "</style>\n",
       "<table border=\"1\" class=\"dataframe\">\n",
       "  <thead>\n",
       "    <tr style=\"text-align: right;\">\n",
       "      <th></th>\n",
       "      <th>Column1</th>\n",
       "      <th>Column2</th>\n",
       "      <th>Column3</th>\n",
       "      <th>Column4</th>\n",
       "    </tr>\n",
       "  </thead>\n",
       "  <tbody>\n",
       "    <tr>\n",
       "      <th>Row1</th>\n",
       "      <td>0</td>\n",
       "      <td>1</td>\n",
       "      <td>2</td>\n",
       "      <td>3</td>\n",
       "    </tr>\n",
       "    <tr>\n",
       "      <th>Row2</th>\n",
       "      <td>4</td>\n",
       "      <td>5</td>\n",
       "      <td>6</td>\n",
       "      <td>7</td>\n",
       "    </tr>\n",
       "    <tr>\n",
       "      <th>Row3</th>\n",
       "      <td>8</td>\n",
       "      <td>9</td>\n",
       "      <td>10</td>\n",
       "      <td>11</td>\n",
       "    </tr>\n",
       "    <tr>\n",
       "      <th>Row4</th>\n",
       "      <td>12</td>\n",
       "      <td>13</td>\n",
       "      <td>14</td>\n",
       "      <td>15</td>\n",
       "    </tr>\n",
       "    <tr>\n",
       "      <th>Row5</th>\n",
       "      <td>16</td>\n",
       "      <td>17</td>\n",
       "      <td>18</td>\n",
       "      <td>19</td>\n",
       "    </tr>\n",
       "  </tbody>\n",
       "</table>\n",
       "</div>"
      ],
      "text/plain": [
       "      Column1  Column2  Column3  Column4\n",
       "Row1        0        1        2        3\n",
       "Row2        4        5        6        7\n",
       "Row3        8        9       10       11\n",
       "Row4       12       13       14       15\n",
       "Row5       16       17       18       19"
      ]
     },
     "execution_count": 60,
     "metadata": {},
     "output_type": "execute_result"
    }
   ],
   "source": [
    "df.head()"
   ]
  },
  {
   "cell_type": "code",
   "execution_count": 62,
   "id": "b6757e2c-c291-4f3e-819f-ec2e3648ea68",
   "metadata": {},
   "outputs": [
    {
     "data": {
      "text/html": [
       "<div>\n",
       "<style scoped>\n",
       "    .dataframe tbody tr th:only-of-type {\n",
       "        vertical-align: middle;\n",
       "    }\n",
       "\n",
       "    .dataframe tbody tr th {\n",
       "        vertical-align: top;\n",
       "    }\n",
       "\n",
       "    .dataframe thead th {\n",
       "        text-align: right;\n",
       "    }\n",
       "</style>\n",
       "<table border=\"1\" class=\"dataframe\">\n",
       "  <thead>\n",
       "    <tr style=\"text-align: right;\">\n",
       "      <th></th>\n",
       "      <th>Column1</th>\n",
       "      <th>Column2</th>\n",
       "      <th>Column3</th>\n",
       "      <th>Column4</th>\n",
       "    </tr>\n",
       "  </thead>\n",
       "  <tbody>\n",
       "    <tr>\n",
       "      <th>Row1</th>\n",
       "      <td>0</td>\n",
       "      <td>1</td>\n",
       "      <td>2</td>\n",
       "      <td>3</td>\n",
       "    </tr>\n",
       "    <tr>\n",
       "      <th>Row2</th>\n",
       "      <td>4</td>\n",
       "      <td>5</td>\n",
       "      <td>6</td>\n",
       "      <td>7</td>\n",
       "    </tr>\n",
       "    <tr>\n",
       "      <th>Row3</th>\n",
       "      <td>8</td>\n",
       "      <td>9</td>\n",
       "      <td>10</td>\n",
       "      <td>11</td>\n",
       "    </tr>\n",
       "  </tbody>\n",
       "</table>\n",
       "</div>"
      ],
      "text/plain": [
       "      Column1  Column2  Column3  Column4\n",
       "Row1        0        1        2        3\n",
       "Row2        4        5        6        7\n",
       "Row3        8        9       10       11"
      ]
     },
     "execution_count": 62,
     "metadata": {},
     "output_type": "execute_result"
    }
   ],
   "source": [
    "df.head(3)"
   ]
  },
  {
   "cell_type": "code",
   "execution_count": 64,
   "id": "da6c5695-1c41-4ff2-901a-4fcbf0cf96c2",
   "metadata": {},
   "outputs": [
    {
     "data": {
      "text/html": [
       "<div>\n",
       "<style scoped>\n",
       "    .dataframe tbody tr th:only-of-type {\n",
       "        vertical-align: middle;\n",
       "    }\n",
       "\n",
       "    .dataframe tbody tr th {\n",
       "        vertical-align: top;\n",
       "    }\n",
       "\n",
       "    .dataframe thead th {\n",
       "        text-align: right;\n",
       "    }\n",
       "</style>\n",
       "<table border=\"1\" class=\"dataframe\">\n",
       "  <thead>\n",
       "    <tr style=\"text-align: right;\">\n",
       "      <th></th>\n",
       "      <th>Column1</th>\n",
       "      <th>Column2</th>\n",
       "      <th>Column3</th>\n",
       "      <th>Column4</th>\n",
       "    </tr>\n",
       "  </thead>\n",
       "  <tbody>\n",
       "    <tr>\n",
       "      <th>Row4</th>\n",
       "      <td>12</td>\n",
       "      <td>13</td>\n",
       "      <td>14</td>\n",
       "      <td>15</td>\n",
       "    </tr>\n",
       "    <tr>\n",
       "      <th>Row5</th>\n",
       "      <td>16</td>\n",
       "      <td>17</td>\n",
       "      <td>18</td>\n",
       "      <td>19</td>\n",
       "    </tr>\n",
       "  </tbody>\n",
       "</table>\n",
       "</div>"
      ],
      "text/plain": [
       "      Column1  Column2  Column3  Column4\n",
       "Row4       12       13       14       15\n",
       "Row5       16       17       18       19"
      ]
     },
     "execution_count": 64,
     "metadata": {},
     "output_type": "execute_result"
    }
   ],
   "source": [
    "df.tail(2)"
   ]
  },
  {
   "cell_type": "code",
   "execution_count": 66,
   "id": "f3321072-854a-4fe4-a126-79d2387c887f",
   "metadata": {},
   "outputs": [
    {
     "data": {
      "text/html": [
       "<div>\n",
       "<style scoped>\n",
       "    .dataframe tbody tr th:only-of-type {\n",
       "        vertical-align: middle;\n",
       "    }\n",
       "\n",
       "    .dataframe tbody tr th {\n",
       "        vertical-align: top;\n",
       "    }\n",
       "\n",
       "    .dataframe thead th {\n",
       "        text-align: right;\n",
       "    }\n",
       "</style>\n",
       "<table border=\"1\" class=\"dataframe\">\n",
       "  <thead>\n",
       "    <tr style=\"text-align: right;\">\n",
       "      <th></th>\n",
       "      <th>Column1</th>\n",
       "      <th>Column2</th>\n",
       "      <th>Column3</th>\n",
       "      <th>Column4</th>\n",
       "    </tr>\n",
       "  </thead>\n",
       "  <tbody>\n",
       "    <tr>\n",
       "      <th>Row1</th>\n",
       "      <td>0</td>\n",
       "      <td>1</td>\n",
       "      <td>2</td>\n",
       "      <td>3</td>\n",
       "    </tr>\n",
       "    <tr>\n",
       "      <th>Row3</th>\n",
       "      <td>8</td>\n",
       "      <td>9</td>\n",
       "      <td>10</td>\n",
       "      <td>11</td>\n",
       "    </tr>\n",
       "    <tr>\n",
       "      <th>Row2</th>\n",
       "      <td>4</td>\n",
       "      <td>5</td>\n",
       "      <td>6</td>\n",
       "      <td>7</td>\n",
       "    </tr>\n",
       "  </tbody>\n",
       "</table>\n",
       "</div>"
      ],
      "text/plain": [
       "      Column1  Column2  Column3  Column4\n",
       "Row1        0        1        2        3\n",
       "Row3        8        9       10       11\n",
       "Row2        4        5        6        7"
      ]
     },
     "execution_count": 66,
     "metadata": {},
     "output_type": "execute_result"
    }
   ],
   "source": [
    "df.sample(3)"
   ]
  },
  {
   "cell_type": "code",
   "execution_count": 68,
   "id": "0e452dfd-756b-4b9e-afc0-01e22465234c",
   "metadata": {},
   "outputs": [
    {
     "data": {
      "text/html": [
       "<div>\n",
       "<style scoped>\n",
       "    .dataframe tbody tr th:only-of-type {\n",
       "        vertical-align: middle;\n",
       "    }\n",
       "\n",
       "    .dataframe tbody tr th {\n",
       "        vertical-align: top;\n",
       "    }\n",
       "\n",
       "    .dataframe thead th {\n",
       "        text-align: right;\n",
       "    }\n",
       "</style>\n",
       "<table border=\"1\" class=\"dataframe\">\n",
       "  <thead>\n",
       "    <tr style=\"text-align: right;\">\n",
       "      <th></th>\n",
       "      <th>Column1</th>\n",
       "      <th>Column2</th>\n",
       "      <th>Column3</th>\n",
       "      <th>Column4</th>\n",
       "    </tr>\n",
       "  </thead>\n",
       "  <tbody>\n",
       "    <tr>\n",
       "      <th>Row2</th>\n",
       "      <td>4</td>\n",
       "      <td>5</td>\n",
       "      <td>6</td>\n",
       "      <td>7</td>\n",
       "    </tr>\n",
       "  </tbody>\n",
       "</table>\n",
       "</div>"
      ],
      "text/plain": [
       "      Column1  Column2  Column3  Column4\n",
       "Row2        4        5        6        7"
      ]
     },
     "execution_count": 68,
     "metadata": {},
     "output_type": "execute_result"
    }
   ],
   "source": [
    "df.sample()"
   ]
  },
  {
   "cell_type": "code",
   "execution_count": 70,
   "id": "d7a2a629-0441-4363-93da-52970a240cd9",
   "metadata": {},
   "outputs": [
    {
     "data": {
      "text/plain": [
       "Index(['Column1', 'Column2', 'Column3', 'Column4'], dtype='object')"
      ]
     },
     "execution_count": 70,
     "metadata": {},
     "output_type": "execute_result"
    }
   ],
   "source": [
    "df.columns"
   ]
  },
  {
   "cell_type": "code",
   "execution_count": 72,
   "id": "774002e8-1d9e-417d-ab31-dcb3b4100381",
   "metadata": {},
   "outputs": [
    {
     "name": "stdout",
     "output_type": "stream",
     "text": [
      "<class 'pandas.core.frame.DataFrame'>\n",
      "Index: 5 entries, Row1 to Row5\n",
      "Data columns (total 4 columns):\n",
      " #   Column   Non-Null Count  Dtype\n",
      "---  ------   --------------  -----\n",
      " 0   Column1  5 non-null      int32\n",
      " 1   Column2  5 non-null      int32\n",
      " 2   Column3  5 non-null      int32\n",
      " 3   Column4  5 non-null      int32\n",
      "dtypes: int32(4)\n",
      "memory usage: 120.0+ bytes\n"
     ]
    }
   ],
   "source": [
    "df.info()"
   ]
  },
  {
   "cell_type": "code",
   "execution_count": 74,
   "id": "398b05fa-5260-4c09-8d8b-7aae8e4b08e3",
   "metadata": {},
   "outputs": [
    {
     "data": {
      "text/html": [
       "<div>\n",
       "<style scoped>\n",
       "    .dataframe tbody tr th:only-of-type {\n",
       "        vertical-align: middle;\n",
       "    }\n",
       "\n",
       "    .dataframe tbody tr th {\n",
       "        vertical-align: top;\n",
       "    }\n",
       "\n",
       "    .dataframe thead th {\n",
       "        text-align: right;\n",
       "    }\n",
       "</style>\n",
       "<table border=\"1\" class=\"dataframe\">\n",
       "  <thead>\n",
       "    <tr style=\"text-align: right;\">\n",
       "      <th></th>\n",
       "      <th>Column1</th>\n",
       "      <th>Column2</th>\n",
       "      <th>Column3</th>\n",
       "      <th>Column4</th>\n",
       "    </tr>\n",
       "  </thead>\n",
       "  <tbody>\n",
       "    <tr>\n",
       "      <th>count</th>\n",
       "      <td>5.000000</td>\n",
       "      <td>5.000000</td>\n",
       "      <td>5.000000</td>\n",
       "      <td>5.000000</td>\n",
       "    </tr>\n",
       "    <tr>\n",
       "      <th>mean</th>\n",
       "      <td>8.000000</td>\n",
       "      <td>9.000000</td>\n",
       "      <td>10.000000</td>\n",
       "      <td>11.000000</td>\n",
       "    </tr>\n",
       "    <tr>\n",
       "      <th>std</th>\n",
       "      <td>6.324555</td>\n",
       "      <td>6.324555</td>\n",
       "      <td>6.324555</td>\n",
       "      <td>6.324555</td>\n",
       "    </tr>\n",
       "    <tr>\n",
       "      <th>min</th>\n",
       "      <td>0.000000</td>\n",
       "      <td>1.000000</td>\n",
       "      <td>2.000000</td>\n",
       "      <td>3.000000</td>\n",
       "    </tr>\n",
       "    <tr>\n",
       "      <th>25%</th>\n",
       "      <td>4.000000</td>\n",
       "      <td>5.000000</td>\n",
       "      <td>6.000000</td>\n",
       "      <td>7.000000</td>\n",
       "    </tr>\n",
       "    <tr>\n",
       "      <th>50%</th>\n",
       "      <td>8.000000</td>\n",
       "      <td>9.000000</td>\n",
       "      <td>10.000000</td>\n",
       "      <td>11.000000</td>\n",
       "    </tr>\n",
       "    <tr>\n",
       "      <th>75%</th>\n",
       "      <td>12.000000</td>\n",
       "      <td>13.000000</td>\n",
       "      <td>14.000000</td>\n",
       "      <td>15.000000</td>\n",
       "    </tr>\n",
       "    <tr>\n",
       "      <th>max</th>\n",
       "      <td>16.000000</td>\n",
       "      <td>17.000000</td>\n",
       "      <td>18.000000</td>\n",
       "      <td>19.000000</td>\n",
       "    </tr>\n",
       "  </tbody>\n",
       "</table>\n",
       "</div>"
      ],
      "text/plain": [
       "         Column1    Column2    Column3    Column4\n",
       "count   5.000000   5.000000   5.000000   5.000000\n",
       "mean    8.000000   9.000000  10.000000  11.000000\n",
       "std     6.324555   6.324555   6.324555   6.324555\n",
       "min     0.000000   1.000000   2.000000   3.000000\n",
       "25%     4.000000   5.000000   6.000000   7.000000\n",
       "50%     8.000000   9.000000  10.000000  11.000000\n",
       "75%    12.000000  13.000000  14.000000  15.000000\n",
       "max    16.000000  17.000000  18.000000  19.000000"
      ]
     },
     "execution_count": 74,
     "metadata": {},
     "output_type": "execute_result"
    }
   ],
   "source": [
    "df.describe() #shows the summary of only the numeric columns\n",
    "#bcz all columns are numeric it describes all columns\n",
    "#statistical report of fata frame"
   ]
  },
  {
   "cell_type": "code",
   "execution_count": 76,
   "id": "01e9dc78-eb56-47ed-8bb3-6a28103ea40c",
   "metadata": {},
   "outputs": [
    {
     "name": "stdout",
     "output_type": "stream",
     "text": [
      "<class 'pandas.core.frame.DataFrame'>\n"
     ]
    }
   ],
   "source": [
    "print(type(df))"
   ]
  },
  {
   "cell_type": "code",
   "execution_count": 78,
   "id": "1bdb33ae-d989-48b8-a6ad-23b38d1f339b",
   "metadata": {},
   "outputs": [
    {
     "name": "stdout",
     "output_type": "stream",
     "text": [
      "<class 'pandas.core.series.Series'>\n"
     ]
    }
   ],
   "source": [
    "print(type(df['Column1']))"
   ]
  },
  {
   "cell_type": "markdown",
   "id": "1e2081b9-e460-4bab-9270-ec6283d57791",
   "metadata": {},
   "source": [
    "# INDEXING:\n",
    "THREE METHODS:\n",
    "1) column name\n",
    "2) row index(loc)\n",
    "3) row index column index number(.iloc)"
   ]
  },
  {
   "cell_type": "code",
   "execution_count": 81,
   "id": "046a2cc1-d046-46be-9ffe-3d4a02b86e14",
   "metadata": {},
   "outputs": [
    {
     "data": {
      "text/plain": [
       "Row1     0\n",
       "Row2     4\n",
       "Row3     8\n",
       "Row4    12\n",
       "Row5    16\n",
       "Name: Column1, dtype: int32"
      ]
     },
     "execution_count": 81,
     "metadata": {},
     "output_type": "execute_result"
    }
   ],
   "source": [
    "df['Column1']"
   ]
  },
  {
   "cell_type": "code",
   "execution_count": 82,
   "id": "69f7efeb-e9ce-44d3-ba96-d7581940207e",
   "metadata": {},
   "outputs": [
    {
     "data": {
      "text/html": [
       "<div>\n",
       "<style scoped>\n",
       "    .dataframe tbody tr th:only-of-type {\n",
       "        vertical-align: middle;\n",
       "    }\n",
       "\n",
       "    .dataframe tbody tr th {\n",
       "        vertical-align: top;\n",
       "    }\n",
       "\n",
       "    .dataframe thead th {\n",
       "        text-align: right;\n",
       "    }\n",
       "</style>\n",
       "<table border=\"1\" class=\"dataframe\">\n",
       "  <thead>\n",
       "    <tr style=\"text-align: right;\">\n",
       "      <th></th>\n",
       "      <th>Column1</th>\n",
       "      <th>Column2</th>\n",
       "      <th>Column3</th>\n",
       "    </tr>\n",
       "  </thead>\n",
       "  <tbody>\n",
       "    <tr>\n",
       "      <th>Row1</th>\n",
       "      <td>0</td>\n",
       "      <td>1</td>\n",
       "      <td>2</td>\n",
       "    </tr>\n",
       "    <tr>\n",
       "      <th>Row2</th>\n",
       "      <td>4</td>\n",
       "      <td>5</td>\n",
       "      <td>6</td>\n",
       "    </tr>\n",
       "    <tr>\n",
       "      <th>Row3</th>\n",
       "      <td>8</td>\n",
       "      <td>9</td>\n",
       "      <td>10</td>\n",
       "    </tr>\n",
       "    <tr>\n",
       "      <th>Row4</th>\n",
       "      <td>12</td>\n",
       "      <td>13</td>\n",
       "      <td>14</td>\n",
       "    </tr>\n",
       "    <tr>\n",
       "      <th>Row5</th>\n",
       "      <td>16</td>\n",
       "      <td>17</td>\n",
       "      <td>18</td>\n",
       "    </tr>\n",
       "  </tbody>\n",
       "</table>\n",
       "</div>"
      ],
      "text/plain": [
       "      Column1  Column2  Column3\n",
       "Row1        0        1        2\n",
       "Row2        4        5        6\n",
       "Row3        8        9       10\n",
       "Row4       12       13       14\n",
       "Row5       16       17       18"
      ]
     },
     "execution_count": 82,
     "metadata": {},
     "output_type": "execute_result"
    }
   ],
   "source": [
    "df[['Column1','Column2','Column3']]"
   ]
  },
  {
   "cell_type": "code",
   "execution_count": 84,
   "id": "de9f10c6-f5bf-40e3-bc9c-25d78eb3d0e3",
   "metadata": {},
   "outputs": [
    {
     "data": {
      "text/html": [
       "<div>\n",
       "<style scoped>\n",
       "    .dataframe tbody tr th:only-of-type {\n",
       "        vertical-align: middle;\n",
       "    }\n",
       "\n",
       "    .dataframe tbody tr th {\n",
       "        vertical-align: top;\n",
       "    }\n",
       "\n",
       "    .dataframe thead th {\n",
       "        text-align: right;\n",
       "    }\n",
       "</style>\n",
       "<table border=\"1\" class=\"dataframe\">\n",
       "  <thead>\n",
       "    <tr style=\"text-align: right;\">\n",
       "      <th></th>\n",
       "      <th>Column1</th>\n",
       "      <th>Column2</th>\n",
       "      <th>Column3</th>\n",
       "      <th>Column4</th>\n",
       "    </tr>\n",
       "  </thead>\n",
       "  <tbody>\n",
       "    <tr>\n",
       "      <th>Row3</th>\n",
       "      <td>8</td>\n",
       "      <td>9</td>\n",
       "      <td>10</td>\n",
       "      <td>11</td>\n",
       "    </tr>\n",
       "    <tr>\n",
       "      <th>Row4</th>\n",
       "      <td>12</td>\n",
       "      <td>13</td>\n",
       "      <td>14</td>\n",
       "      <td>15</td>\n",
       "    </tr>\n",
       "  </tbody>\n",
       "</table>\n",
       "</div>"
      ],
      "text/plain": [
       "      Column1  Column2  Column3  Column4\n",
       "Row3        8        9       10       11\n",
       "Row4       12       13       14       15"
      ]
     },
     "execution_count": 84,
     "metadata": {},
     "output_type": "execute_result"
    }
   ],
   "source": [
    "# row index\n",
    "# df[0] = error\n",
    "df.loc[['Row3','Row4']]"
   ]
  },
  {
   "cell_type": "code",
   "execution_count": 85,
   "id": "0fade80a-b48b-4a18-8730-484fe3c3d83c",
   "metadata": {},
   "outputs": [
    {
     "data": {
      "text/html": [
       "<div>\n",
       "<style scoped>\n",
       "    .dataframe tbody tr th:only-of-type {\n",
       "        vertical-align: middle;\n",
       "    }\n",
       "\n",
       "    .dataframe tbody tr th {\n",
       "        vertical-align: top;\n",
       "    }\n",
       "\n",
       "    .dataframe thead th {\n",
       "        text-align: right;\n",
       "    }\n",
       "</style>\n",
       "<table border=\"1\" class=\"dataframe\">\n",
       "  <thead>\n",
       "    <tr style=\"text-align: right;\">\n",
       "      <th></th>\n",
       "      <th>Column1</th>\n",
       "      <th>Column2</th>\n",
       "      <th>Column3</th>\n",
       "      <th>Column4</th>\n",
       "    </tr>\n",
       "  </thead>\n",
       "  <tbody>\n",
       "    <tr>\n",
       "      <th>Row1</th>\n",
       "      <td>0</td>\n",
       "      <td>1</td>\n",
       "      <td>2</td>\n",
       "      <td>3</td>\n",
       "    </tr>\n",
       "  </tbody>\n",
       "</table>\n",
       "</div>"
      ],
      "text/plain": [
       "      Column1  Column2  Column3  Column4\n",
       "Row1        0        1        2        3"
      ]
     },
     "execution_count": 85,
     "metadata": {},
     "output_type": "execute_result"
    }
   ],
   "source": [
    "df.loc[['Row1']] #use double brackets"
   ]
  },
  {
   "cell_type": "code",
   "execution_count": 86,
   "id": "b8885523-8571-4f4b-a9ad-ddb35094ddf3",
   "metadata": {},
   "outputs": [
    {
     "data": {
      "text/plain": [
       "Column1    0\n",
       "Column2    1\n",
       "Column3    2\n",
       "Column4    3\n",
       "Name: Row1, dtype: int32"
      ]
     },
     "execution_count": 86,
     "metadata": {},
     "output_type": "execute_result"
    }
   ],
   "source": [
    "df.loc['Row1'] #gives column names in series"
   ]
  },
  {
   "cell_type": "code",
   "execution_count": 87,
   "id": "78d61cf8-f8f3-46c1-9a8b-323e660c3240",
   "metadata": {},
   "outputs": [],
   "source": [
    "# row1,2,column2,3s, "
   ]
  },
  {
   "cell_type": "code",
   "execution_count": 88,
   "id": "a6781744-c712-48c9-8017-242fb6109e5c",
   "metadata": {},
   "outputs": [
    {
     "data": {
      "text/html": [
       "<div>\n",
       "<style scoped>\n",
       "    .dataframe tbody tr th:only-of-type {\n",
       "        vertical-align: middle;\n",
       "    }\n",
       "\n",
       "    .dataframe tbody tr th {\n",
       "        vertical-align: top;\n",
       "    }\n",
       "\n",
       "    .dataframe thead th {\n",
       "        text-align: right;\n",
       "    }\n",
       "</style>\n",
       "<table border=\"1\" class=\"dataframe\">\n",
       "  <thead>\n",
       "    <tr style=\"text-align: right;\">\n",
       "      <th></th>\n",
       "      <th>Column1</th>\n",
       "      <th>Column2</th>\n",
       "      <th>Column3</th>\n",
       "      <th>Column4</th>\n",
       "    </tr>\n",
       "  </thead>\n",
       "  <tbody>\n",
       "    <tr>\n",
       "      <th>Row1</th>\n",
       "      <td>0</td>\n",
       "      <td>1</td>\n",
       "      <td>2</td>\n",
       "      <td>3</td>\n",
       "    </tr>\n",
       "    <tr>\n",
       "      <th>Row2</th>\n",
       "      <td>4</td>\n",
       "      <td>5</td>\n",
       "      <td>6</td>\n",
       "      <td>7</td>\n",
       "    </tr>\n",
       "    <tr>\n",
       "      <th>Row3</th>\n",
       "      <td>8</td>\n",
       "      <td>9</td>\n",
       "      <td>10</td>\n",
       "      <td>11</td>\n",
       "    </tr>\n",
       "    <tr>\n",
       "      <th>Row4</th>\n",
       "      <td>12</td>\n",
       "      <td>13</td>\n",
       "      <td>14</td>\n",
       "      <td>15</td>\n",
       "    </tr>\n",
       "    <tr>\n",
       "      <th>Row5</th>\n",
       "      <td>16</td>\n",
       "      <td>17</td>\n",
       "      <td>18</td>\n",
       "      <td>19</td>\n",
       "    </tr>\n",
       "  </tbody>\n",
       "</table>\n",
       "</div>"
      ],
      "text/plain": [
       "      Column1  Column2  Column3  Column4\n",
       "Row1        0        1        2        3\n",
       "Row2        4        5        6        7\n",
       "Row3        8        9       10       11\n",
       "Row4       12       13       14       15\n",
       "Row5       16       17       18       19"
      ]
     },
     "execution_count": 88,
     "metadata": {},
     "output_type": "execute_result"
    }
   ],
   "source": [
    "df.iloc[:,:]"
   ]
  },
  {
   "cell_type": "code",
   "execution_count": 89,
   "id": "7fd89dbe-671a-4e0a-a527-000bab9cb623",
   "metadata": {},
   "outputs": [
    {
     "data": {
      "text/html": [
       "<div>\n",
       "<style scoped>\n",
       "    .dataframe tbody tr th:only-of-type {\n",
       "        vertical-align: middle;\n",
       "    }\n",
       "\n",
       "    .dataframe tbody tr th {\n",
       "        vertical-align: top;\n",
       "    }\n",
       "\n",
       "    .dataframe thead th {\n",
       "        text-align: right;\n",
       "    }\n",
       "</style>\n",
       "<table border=\"1\" class=\"dataframe\">\n",
       "  <thead>\n",
       "    <tr style=\"text-align: right;\">\n",
       "      <th></th>\n",
       "      <th>Column2</th>\n",
       "      <th>Column3</th>\n",
       "    </tr>\n",
       "  </thead>\n",
       "  <tbody>\n",
       "    <tr>\n",
       "      <th>Row2</th>\n",
       "      <td>5</td>\n",
       "      <td>6</td>\n",
       "    </tr>\n",
       "    <tr>\n",
       "      <th>Row3</th>\n",
       "      <td>9</td>\n",
       "      <td>10</td>\n",
       "    </tr>\n",
       "    <tr>\n",
       "      <th>Row4</th>\n",
       "      <td>13</td>\n",
       "      <td>14</td>\n",
       "    </tr>\n",
       "    <tr>\n",
       "      <th>Row5</th>\n",
       "      <td>17</td>\n",
       "      <td>18</td>\n",
       "    </tr>\n",
       "  </tbody>\n",
       "</table>\n",
       "</div>"
      ],
      "text/plain": [
       "      Column2  Column3\n",
       "Row2        5        6\n",
       "Row3        9       10\n",
       "Row4       13       14\n",
       "Row5       17       18"
      ]
     },
     "execution_count": 89,
     "metadata": {},
     "output_type": "execute_result"
    }
   ],
   "source": [
    "df.iloc[1:6,1:3]"
   ]
  },
  {
   "cell_type": "code",
   "execution_count": 90,
   "id": "0ac83108-df3b-449b-bea7-d1c3e15e9911",
   "metadata": {},
   "outputs": [
    {
     "data": {
      "text/html": [
       "<div>\n",
       "<style scoped>\n",
       "    .dataframe tbody tr th:only-of-type {\n",
       "        vertical-align: middle;\n",
       "    }\n",
       "\n",
       "    .dataframe tbody tr th {\n",
       "        vertical-align: top;\n",
       "    }\n",
       "\n",
       "    .dataframe thead th {\n",
       "        text-align: right;\n",
       "    }\n",
       "</style>\n",
       "<table border=\"1\" class=\"dataframe\">\n",
       "  <thead>\n",
       "    <tr style=\"text-align: right;\">\n",
       "      <th></th>\n",
       "      <th>Column1</th>\n",
       "      <th>Column2</th>\n",
       "      <th>Column3</th>\n",
       "    </tr>\n",
       "  </thead>\n",
       "  <tbody>\n",
       "    <tr>\n",
       "      <th>Row1</th>\n",
       "      <td>0</td>\n",
       "      <td>1</td>\n",
       "      <td>2</td>\n",
       "    </tr>\n",
       "    <tr>\n",
       "      <th>Row3</th>\n",
       "      <td>8</td>\n",
       "      <td>9</td>\n",
       "      <td>10</td>\n",
       "    </tr>\n",
       "    <tr>\n",
       "      <th>Row5</th>\n",
       "      <td>16</td>\n",
       "      <td>17</td>\n",
       "      <td>18</td>\n",
       "    </tr>\n",
       "  </tbody>\n",
       "</table>\n",
       "</div>"
      ],
      "text/plain": [
       "      Column1  Column2  Column3\n",
       "Row1        0        1        2\n",
       "Row3        8        9       10\n",
       "Row5       16       17       18"
      ]
     },
     "execution_count": 90,
     "metadata": {},
     "output_type": "execute_result"
    }
   ],
   "source": [
    "df.iloc[0:6:2,0:3]"
   ]
  },
  {
   "cell_type": "code",
   "execution_count": 92,
   "id": "30d6720b-939a-48bf-8c8c-1c1ec715e594",
   "metadata": {},
   "outputs": [
    {
     "data": {
      "text/html": [
       "<div>\n",
       "<style scoped>\n",
       "    .dataframe tbody tr th:only-of-type {\n",
       "        vertical-align: middle;\n",
       "    }\n",
       "\n",
       "    .dataframe tbody tr th {\n",
       "        vertical-align: top;\n",
       "    }\n",
       "\n",
       "    .dataframe thead th {\n",
       "        text-align: right;\n",
       "    }\n",
       "</style>\n",
       "<table border=\"1\" class=\"dataframe\">\n",
       "  <thead>\n",
       "    <tr style=\"text-align: right;\">\n",
       "      <th></th>\n",
       "      <th>Column1</th>\n",
       "      <th>Column2</th>\n",
       "      <th>Column3</th>\n",
       "      <th>Column4</th>\n",
       "    </tr>\n",
       "  </thead>\n",
       "  <tbody>\n",
       "    <tr>\n",
       "      <th>Row1</th>\n",
       "      <td>False</td>\n",
       "      <td>False</td>\n",
       "      <td>False</td>\n",
       "      <td>False</td>\n",
       "    </tr>\n",
       "    <tr>\n",
       "      <th>Row2</th>\n",
       "      <td>False</td>\n",
       "      <td>False</td>\n",
       "      <td>False</td>\n",
       "      <td>False</td>\n",
       "    </tr>\n",
       "    <tr>\n",
       "      <th>Row3</th>\n",
       "      <td>False</td>\n",
       "      <td>False</td>\n",
       "      <td>False</td>\n",
       "      <td>False</td>\n",
       "    </tr>\n",
       "    <tr>\n",
       "      <th>Row4</th>\n",
       "      <td>False</td>\n",
       "      <td>False</td>\n",
       "      <td>False</td>\n",
       "      <td>False</td>\n",
       "    </tr>\n",
       "    <tr>\n",
       "      <th>Row5</th>\n",
       "      <td>False</td>\n",
       "      <td>False</td>\n",
       "      <td>False</td>\n",
       "      <td>False</td>\n",
       "    </tr>\n",
       "  </tbody>\n",
       "</table>\n",
       "</div>"
      ],
      "text/plain": [
       "      Column1  Column2  Column3  Column4\n",
       "Row1    False    False    False    False\n",
       "Row2    False    False    False    False\n",
       "Row3    False    False    False    False\n",
       "Row4    False    False    False    False\n",
       "Row5    False    False    False    False"
      ]
     },
     "execution_count": 92,
     "metadata": {},
     "output_type": "execute_result"
    }
   ],
   "source": [
    "df.isnull() #tells the value that are null in a data frame\n",
    "# will generate a binary data, if there is a null value it would give true"
   ]
  },
  {
   "cell_type": "code",
   "execution_count": 93,
   "id": "7d5f543c-888b-42be-8eba-7394d313827f",
   "metadata": {},
   "outputs": [
    {
     "data": {
      "text/plain": [
       "Column1    40\n",
       "Column2    45\n",
       "Column3    50\n",
       "Column4    55\n",
       "dtype: int64"
      ]
     },
     "execution_count": 93,
     "metadata": {},
     "output_type": "execute_result"
    }
   ],
   "source": [
    "df.sum()"
   ]
  },
  {
   "cell_type": "code",
   "execution_count": 94,
   "id": "c7531445-e7cf-4c59-90f3-18a3aa33a85a",
   "metadata": {},
   "outputs": [
    {
     "data": {
      "text/plain": [
       "array([[ 1,  2,  3],\n",
       "       [ 5,  6,  7],\n",
       "       [ 9, 10, 11],\n",
       "       [13, 14, 15],\n",
       "       [17, 18, 19]])"
      ]
     },
     "execution_count": 94,
     "metadata": {},
     "output_type": "execute_result"
    }
   ],
   "source": [
    "# convert data frames into arrays\n",
    "df.iloc[:,1:].values"
   ]
  },
  {
   "cell_type": "code",
   "execution_count": 96,
   "id": "4e19428f-1699-4856-9ed3-4d9df558d7a5",
   "metadata": {},
   "outputs": [
    {
     "name": "stdout",
     "output_type": "stream",
     "text": [
      "      Column1  Column2  Column3\n",
      "Row1        1      NaN        2\n",
      "Row2        1      3.0        4\n"
     ]
    }
   ],
   "source": [
    "df1= pd.DataFrame(data=[[1,np.nan,2],[1,3,4]],index=[\"Row1\",\"Row2\"],columns=[\"Column1\",\"Column2\",\"Column3\"])\n",
    "print(df1)"
   ]
  },
  {
   "cell_type": "code",
   "execution_count": 147,
   "id": "617df052-5380-4ca1-ba08-0b001f74088e",
   "metadata": {},
   "outputs": [
    {
     "data": {
      "text/plain": [
       "array([nan,  3.])"
      ]
     },
     "execution_count": 147,
     "metadata": {},
     "output_type": "execute_result"
    }
   ],
   "source": [
    "df1.Column2.unique() # unique function extracts unique values from a specific column in a data frame"
   ]
  },
  {
   "cell_type": "code",
   "execution_count": 149,
   "id": "3c32466a-4686-43ee-86d3-904c8c8e4475",
   "metadata": {},
   "outputs": [
    {
     "data": {
      "text/plain": [
       "Column1\n",
       "1    2\n",
       "Name: count, dtype: int64"
      ]
     },
     "execution_count": 149,
     "metadata": {},
     "output_type": "execute_result"
    }
   ],
   "source": [
    "df1['Column1'].value_counts() #tells how many times an element has occured in a column"
   ]
  },
  {
   "cell_type": "code",
   "execution_count": 151,
   "id": "e6c675a0-7f16-454a-8e0c-be9779a1cbf0",
   "metadata": {},
   "outputs": [
    {
     "data": {
      "text/plain": [
       "Row1    False\n",
       "Row2     True\n",
       "Name: Column3, dtype: bool"
      ]
     },
     "execution_count": 151,
     "metadata": {},
     "output_type": "execute_result"
    }
   ],
   "source": [
    "df1['Column3']>2 #condition"
   ]
  },
  {
   "cell_type": "code",
   "execution_count": 153,
   "id": "195400b0-4c5e-4235-b4ad-1ed0a3fbf99d",
   "metadata": {},
   "outputs": [
    {
     "data": {
      "text/html": [
       "<div>\n",
       "<style scoped>\n",
       "    .dataframe tbody tr th:only-of-type {\n",
       "        vertical-align: middle;\n",
       "    }\n",
       "\n",
       "    .dataframe tbody tr th {\n",
       "        vertical-align: top;\n",
       "    }\n",
       "\n",
       "    .dataframe thead th {\n",
       "        text-align: right;\n",
       "    }\n",
       "</style>\n",
       "<table border=\"1\" class=\"dataframe\">\n",
       "  <thead>\n",
       "    <tr style=\"text-align: right;\">\n",
       "      <th></th>\n",
       "      <th>Column1</th>\n",
       "      <th>Column2</th>\n",
       "      <th>Column3</th>\n",
       "    </tr>\n",
       "  </thead>\n",
       "  <tbody>\n",
       "    <tr>\n",
       "      <th>Row1</th>\n",
       "      <td>1</td>\n",
       "      <td>NaN</td>\n",
       "      <td>2</td>\n",
       "    </tr>\n",
       "    <tr>\n",
       "      <th>Row2</th>\n",
       "      <td>1</td>\n",
       "      <td>3.0</td>\n",
       "      <td>4</td>\n",
       "    </tr>\n",
       "  </tbody>\n",
       "</table>\n",
       "</div>"
      ],
      "text/plain": [
       "      Column1  Column2  Column3\n",
       "Row1        1      NaN        2\n",
       "Row2        1      3.0        4"
      ]
     },
     "execution_count": 153,
     "metadata": {},
     "output_type": "execute_result"
    }
   ],
   "source": [
    "df1"
   ]
  }
 ],
 "metadata": {
  "kernelspec": {
   "display_name": "Python 3 (ipykernel)",
   "language": "python",
   "name": "python3"
  },
  "language_info": {
   "codemirror_mode": {
    "name": "ipython",
    "version": 3
   },
   "file_extension": ".py",
   "mimetype": "text/x-python",
   "name": "python",
   "nbconvert_exporter": "python",
   "pygments_lexer": "ipython3",
   "version": "3.12.4"
  }
 },
 "nbformat": 4,
 "nbformat_minor": 5
}
